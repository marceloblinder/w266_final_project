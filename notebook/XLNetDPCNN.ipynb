{
 "cells": [
  {
   "cell_type": "code",
   "execution_count": 1,
   "metadata": {
    "colab": {
     "base_uri": "https://localhost:8080/",
     "height": 82
    },
    "colab_type": "code",
    "executionInfo": {
     "elapsed": 12591,
     "status": "ok",
     "timestamp": 1574043893639,
     "user": {
      "displayName": "Carlos Sancini",
      "photoUrl": "https://lh3.googleusercontent.com/a-/AAuE7mBK_a0VL329YfM0B72acZH97KLpfXxCOtGUCi9s=s64",
      "userId": "02726390835148099400"
     },
     "user_tz": 180
    },
    "id": "pYIWtv8Z7YqN",
    "outputId": "769bb331-24e9-419f-a782-b01dbec24eba"
   },
   "outputs": [],
   "source": [
    "import numpy as np\n",
    "import math\n",
    "import matplotlib.pyplot as plt\n",
    "import pandas as pd\n",
    "import pickle\n",
    "import logging as log\n",
    "\n",
    "import torch\n",
    "from torch.utils.data import TensorDataset, DataLoader, RandomSampler, SequentialSampler\n",
    "import torch.nn.functional as F\n",
    "\n",
    "from transformers import XLNetModel, XLNetTokenizer, XLNetForSequenceClassification, XLNetConfig\n",
    "from transformers import *\n",
    "\n",
    "from transformers import AdamW\n",
    "\n",
    "from tensorflow.keras.preprocessing.sequence import pad_sequences\n",
    "from tqdm import tqdm, trange\n",
    "from sklearn.metrics import roc_curve, auc\n",
    "from sklearn.metrics import multilabel_confusion_matrix, classification_report\n",
    "\n",
    "SEED = 17"
   ]
  },
  {
   "cell_type": "markdown",
   "metadata": {},
   "source": [
    "To update all modules run:\n",
    "\n",
    "__pip install sentencepiece==0.1.95 pyarrow__\n",
    "\n",
    "__pip3 list --outdated --format=freeze | grep -v '^\\-e' | cut -d = -f 1  | xargs -n1 pip3 install -U__\n",
    "\n",
    "Run that for an error saying *\"ModuleNotFoundError: No module named 'transformers.modeling_xlnet'\"*"
   ]
  },
  {
   "cell_type": "code",
   "execution_count": 2,
   "metadata": {
    "colab": {},
    "colab_type": "code",
    "id": "H9FgNNg7k4Bc"
   },
   "outputs": [],
   "source": [
    "log.basicConfig(format='%(asctime)s - %(levelname)s - %(name)s -   %(message)s',\n",
    "                    datefmt='%m/%d/%Y %H:%M:%S',\n",
    "                    filename='xlnet_dpcnn.log',\n",
    "                    level=log.INFO)\n",
    "logger = log.getLogger(__name__)"
   ]
  },
  {
   "cell_type": "markdown",
   "metadata": {
    "colab_type": "text",
    "id": "JKBzbugJ4hOi"
   },
   "source": [
    "#### Setting up gpu environment"
   ]
  },
  {
   "cell_type": "code",
   "execution_count": 3,
   "metadata": {
    "colab": {
     "base_uri": "https://localhost:8080/",
     "height": 35
    },
    "colab_type": "code",
    "executionInfo": {
     "elapsed": 8979,
     "status": "ok",
     "timestamp": 1574043893641,
     "user": {
      "displayName": "Carlos Sancini",
      "photoUrl": "https://lh3.googleusercontent.com/a-/AAuE7mBK_a0VL329YfM0B72acZH97KLpfXxCOtGUCi9s=s64",
      "userId": "02726390835148099400"
     },
     "user_tz": 180
    },
    "id": "m60T5Qio7LCs",
    "outputId": "f93af2ae-63dd-4e96-a31a-eb5f9e910478"
   },
   "outputs": [
    {
     "data": {
      "text/plain": [
       "'Tesla K80'"
      ]
     },
     "execution_count": 3,
     "metadata": {},
     "output_type": "execute_result"
    }
   ],
   "source": [
    "device = torch.device(\"cuda\" if torch.cuda.is_available() else \"cpu\")\n",
    "n_gpu = torch.cuda.device_count()\n",
    "torch.cuda.get_device_name(0)"
   ]
  },
  {
   "cell_type": "markdown",
   "metadata": {
    "colab_type": "text",
    "id": "SAIjuU18JgNK"
   },
   "source": [
    "Preparing NYT dataset for *XLNet*\n"
   ]
  },
  {
   "cell_type": "code",
   "execution_count": 4,
   "metadata": {
    "colab": {},
    "colab_type": "code",
    "id": "tRXDaFimVyYO"
   },
   "outputs": [],
   "source": [
    "import pandas as pd\n",
    "df_full = pd.read_parquet('../data/nyt.2000.parquet.gz')"
   ]
  },
  {
   "cell_type": "code",
   "execution_count": 5,
   "metadata": {
    "colab": {},
    "colab_type": "code",
    "id": "0Rso1WmWelw3"
   },
   "outputs": [
    {
     "data": {
      "text/plain": [
       "(32146, 14)"
      ]
     },
     "execution_count": 5,
     "metadata": {},
     "output_type": "execute_result"
    }
   ],
   "source": [
    "df_full.shape"
   ]
  },
  {
   "cell_type": "code",
   "execution_count": 6,
   "metadata": {
    "colab": {},
    "colab_type": "code",
    "id": "N71zwRkEn2-J"
   },
   "outputs": [],
   "source": [
    "# sample a small set of observations for testing \n",
    "#df = df_full.sample(10000, random_state=SEED)\n",
    "\n",
    "# full dataset for the real deal\n",
    "df = df_full\n",
    "\n",
    "df = df.set_index(\"Id\")"
   ]
  },
  {
   "cell_type": "code",
   "execution_count": 7,
   "metadata": {
    "colab": {
     "base_uri": "https://localhost:8080/",
     "height": 225
    },
    "colab_type": "code",
    "executionInfo": {
     "elapsed": 967,
     "status": "ok",
     "timestamp": 1574021270971,
     "user": {
      "displayName": "Carlos Sancini",
      "photoUrl": "https://lh3.googleusercontent.com/a-/AAuE7mBK_a0VL329YfM0B72acZH97KLpfXxCOtGUCi9s=s64",
      "userId": "02726390835148099400"
     },
     "user_tz": 180
    },
    "id": "ccpWYcp5YHcH",
    "outputId": "be6ad6df-4ca3-4563-9c22-61e2fa5d7dd7"
   },
   "outputs": [
    {
     "data": {
      "text/html": [
       "<div>\n",
       "<style scoped>\n",
       "    .dataframe tbody tr th:only-of-type {\n",
       "        vertical-align: middle;\n",
       "    }\n",
       "\n",
       "    .dataframe tbody tr th {\n",
       "        vertical-align: top;\n",
       "    }\n",
       "\n",
       "    .dataframe thead th {\n",
       "        text-align: right;\n",
       "    }\n",
       "</style>\n",
       "<table border=\"1\" class=\"dataframe\">\n",
       "  <thead>\n",
       "    <tr style=\"text-align: right;\">\n",
       "      <th></th>\n",
       "      <th>Text</th>\n",
       "      <th>World</th>\n",
       "      <th>Washington</th>\n",
       "      <th>New_York_and_Region</th>\n",
       "      <th>Front_Page</th>\n",
       "      <th>Business</th>\n",
       "      <th>US</th>\n",
       "      <th>Sports</th>\n",
       "      <th>Obituaries</th>\n",
       "      <th>Health</th>\n",
       "      <th>Education</th>\n",
       "      <th>Science</th>\n",
       "      <th>Technology</th>\n",
       "    </tr>\n",
       "    <tr>\n",
       "      <th>Id</th>\n",
       "      <th></th>\n",
       "      <th></th>\n",
       "      <th></th>\n",
       "      <th></th>\n",
       "      <th></th>\n",
       "      <th></th>\n",
       "      <th></th>\n",
       "      <th></th>\n",
       "      <th></th>\n",
       "      <th></th>\n",
       "      <th></th>\n",
       "      <th></th>\n",
       "      <th></th>\n",
       "    </tr>\n",
       "  </thead>\n",
       "  <tbody>\n",
       "    <tr>\n",
       "      <th>1165059</th>\n",
       "      <td>The man accused of stabbing George Harrison on...</td>\n",
       "      <td>1</td>\n",
       "      <td>0</td>\n",
       "      <td>0</td>\n",
       "      <td>0</td>\n",
       "      <td>0</td>\n",
       "      <td>0</td>\n",
       "      <td>0</td>\n",
       "      <td>0</td>\n",
       "      <td>1</td>\n",
       "      <td>0</td>\n",
       "      <td>0</td>\n",
       "      <td>0</td>\n",
       "    </tr>\n",
       "    <tr>\n",
       "      <th>1165110</th>\n",
       "      <td>Most nights, P. J. Sanchez, 9, comes into his ...</td>\n",
       "      <td>0</td>\n",
       "      <td>0</td>\n",
       "      <td>1</td>\n",
       "      <td>0</td>\n",
       "      <td>0</td>\n",
       "      <td>0</td>\n",
       "      <td>0</td>\n",
       "      <td>0</td>\n",
       "      <td>1</td>\n",
       "      <td>0</td>\n",
       "      <td>0</td>\n",
       "      <td>0</td>\n",
       "    </tr>\n",
       "    <tr>\n",
       "      <th>1165173</th>\n",
       "      <td>Of all the instincts in animals, the strongest...</td>\n",
       "      <td>0</td>\n",
       "      <td>0</td>\n",
       "      <td>0</td>\n",
       "      <td>0</td>\n",
       "      <td>0</td>\n",
       "      <td>0</td>\n",
       "      <td>0</td>\n",
       "      <td>0</td>\n",
       "      <td>1</td>\n",
       "      <td>0</td>\n",
       "      <td>0</td>\n",
       "      <td>0</td>\n",
       "    </tr>\n",
       "    <tr>\n",
       "      <th>1165189</th>\n",
       "      <td>THE Scarecrow in \"The Wizard of Oz\" wanted onl...</td>\n",
       "      <td>0</td>\n",
       "      <td>0</td>\n",
       "      <td>0</td>\n",
       "      <td>0</td>\n",
       "      <td>0</td>\n",
       "      <td>0</td>\n",
       "      <td>0</td>\n",
       "      <td>0</td>\n",
       "      <td>1</td>\n",
       "      <td>0</td>\n",
       "      <td>0</td>\n",
       "      <td>0</td>\n",
       "    </tr>\n",
       "    <tr>\n",
       "      <th>1165219</th>\n",
       "      <td>UNLIKE the sheep named Dolly, the mouse named ...</td>\n",
       "      <td>0</td>\n",
       "      <td>0</td>\n",
       "      <td>0</td>\n",
       "      <td>0</td>\n",
       "      <td>0</td>\n",
       "      <td>0</td>\n",
       "      <td>0</td>\n",
       "      <td>0</td>\n",
       "      <td>1</td>\n",
       "      <td>0</td>\n",
       "      <td>0</td>\n",
       "      <td>0</td>\n",
       "    </tr>\n",
       "  </tbody>\n",
       "</table>\n",
       "</div>"
      ],
      "text/plain": [
       "                                                      Text  World  Washington  \\\n",
       "Id                                                                              \n",
       "1165059  The man accused of stabbing George Harrison on...      1           0   \n",
       "1165110  Most nights, P. J. Sanchez, 9, comes into his ...      0           0   \n",
       "1165173  Of all the instincts in animals, the strongest...      0           0   \n",
       "1165189  THE Scarecrow in \"The Wizard of Oz\" wanted onl...      0           0   \n",
       "1165219  UNLIKE the sheep named Dolly, the mouse named ...      0           0   \n",
       "\n",
       "         New_York_and_Region  Front_Page  Business  US  Sports  Obituaries  \\\n",
       "Id                                                                           \n",
       "1165059                    0           0         0   0       0           0   \n",
       "1165110                    1           0         0   0       0           0   \n",
       "1165173                    0           0         0   0       0           0   \n",
       "1165189                    0           0         0   0       0           0   \n",
       "1165219                    0           0         0   0       0           0   \n",
       "\n",
       "         Health  Education  Science  Technology  \n",
       "Id                                               \n",
       "1165059       1          0        0           0  \n",
       "1165110       1          0        0           0  \n",
       "1165173       1          0        0           0  \n",
       "1165189       1          0        0           0  \n",
       "1165219       1          0        0           0  "
      ]
     },
     "execution_count": 7,
     "metadata": {},
     "output_type": "execute_result"
    }
   ],
   "source": [
    "df[df.Health == 1].head()"
   ]
  },
  {
   "cell_type": "code",
   "execution_count": 8,
   "metadata": {
    "colab": {
     "base_uri": "https://localhost:8080/",
     "height": 144
    },
    "colab_type": "code",
    "executionInfo": {
     "elapsed": 3503,
     "status": "ok",
     "timestamp": 1574043897154,
     "user": {
      "displayName": "Carlos Sancini",
      "photoUrl": "https://lh3.googleusercontent.com/a-/AAuE7mBK_a0VL329YfM0B72acZH97KLpfXxCOtGUCi9s=s64",
      "userId": "02726390835148099400"
     },
     "user_tz": 180
    },
    "id": "klfFFgooZsLC",
    "outputId": "aa37830e-076b-4b0a-edd6-7b1f6bded2ac"
   },
   "outputs": [],
   "source": [
    "tokenizer = XLNetTokenizer.from_pretrained('xlnet-base-cased')"
   ]
  },
  {
   "cell_type": "code",
   "execution_count": 9,
   "metadata": {
    "colab": {
     "base_uri": "https://localhost:8080/",
     "height": 311
    },
    "colab_type": "code",
    "executionInfo": {
     "elapsed": 4349,
     "status": "ok",
     "timestamp": 1574021274370,
     "user": {
      "displayName": "Carlos Sancini",
      "photoUrl": "https://lh3.googleusercontent.com/a-/AAuE7mBK_a0VL329YfM0B72acZH97KLpfXxCOtGUCi9s=s64",
      "userId": "02726390835148099400"
     },
     "user_tz": 180
    },
    "id": "-Mc115VSyv1T",
    "outputId": "c323fe88-ce91-40d3-830e-7c20cd528e6c"
   },
   "outputs": [
    {
     "data": {
      "image/png": "[encoded data removed]",
      "text/plain": [
       "<Figure size 432x288 with 1 Axes>"
      ]
     },
     "metadata": {
      "needs_background": "light"
     },
     "output_type": "display_data"
    }
   ],
   "source": [
    "plt.hist(\n",
    "    [len(s) for s in df.sample(1000)[\"Text\"].apply(lambda x: tokenizer.tokenize(x))], \n",
    "    bins=[0, 128, 256, 512, 1024, 2048, 5096], \n",
    "    histtype='bar', \n",
    "    facecolor='b',\n",
    "    edgecolor='k',\n",
    "    alpha=0.5)\n",
    "plt.xticks([0, 128, 256, 512, 1024, 2048, 5096], rotation='vertical')\n",
    "plt.xlabel('Tokens')\n",
    "plt.ylabel('Sentences')\n",
    "plt.title('Histogram of number of tokens in sentences')\n",
    "plt.show()"
   ]
  },
  {
   "cell_type": "code",
   "execution_count": 10,
   "metadata": {
    "colab": {
     "base_uri": "https://localhost:8080/",
     "height": 50
    },
    "colab_type": "code",
    "executionInfo": {
     "elapsed": 2174909,
     "status": "ok",
     "timestamp": 1574023523372,
     "user": {
      "displayName": "Carlos Sancini",
      "photoUrl": "https://lh3.googleusercontent.com/a-/AAuE7mBK_a0VL329YfM0B72acZH97KLpfXxCOtGUCi9s=s64",
      "userId": "02726390835148099400"
     },
     "user_tz": 180
    },
    "id": "gDOAvSBj9jrP",
    "outputId": "7c436f98-7c5c-4408-a41e-ce86ea766246"
   },
   "outputs": [
    {
     "name": "stderr",
     "output_type": "stream",
     "text": [
      "Tokenizer: 100%|██████████| 32146/32146 [01:07<00:00, 475.42it/s]\n"
     ]
    },
    {
     "data": {
      "text/plain": [
       "(32146,)"
      ]
     },
     "execution_count": 10,
     "metadata": {},
     "output_type": "execute_result"
    }
   ],
   "source": [
    "# Sentences larger than MAX_LEN are truncated (out-of-memory workaround)\n",
    "MAX_LEN = 128\n",
    "\n",
    "df_input_ids_full = df[\"Text\"].copy()\n",
    "XLNET_END_TOKEN_IDS = tokenizer.encode(\"[SEP][CLS]\")\n",
    "\n",
    "for i in tqdm(df_input_ids_full.index, desc=\"Tokenizer\"):\n",
    "  input_ids = tokenizer.convert_tokens_to_ids(\n",
    "      tokenizer.tokenize(df_input_ids_full[i])[:MAX_LEN - len(XLNET_END_TOKEN_IDS)])\n",
    "  df_input_ids_full.at[i] = input_ids + XLNET_END_TOKEN_IDS\n",
    "\n",
    "df_input_ids_full.shape\n",
    "# the code below causes out-of-memory crash and the code above was used\n",
    "\n",
    "# convert to XLNet vocabulary tokens\n",
    "#df[\"tokens\"] = df[\"Text\"].apply(lambda x: tokenizer.tokenize(x + \" [SEP] [CLS]\"))\n",
    "\n",
    "# convert tokens to XLNet vocabulary ids\n",
    "#df[\"input_ids_full\"] = df[\"tokens\"].apply(lambda x: tokenizer.convert_tokens_to_ids(x))"
   ]
  },
  {
   "cell_type": "code",
   "execution_count": 11,
   "metadata": {
    "colab": {},
    "colab_type": "code",
    "id": "JABiS_MpzHg3"
   },
   "outputs": [],
   "source": [
    "# using Keras function to handle padding\n",
    "df[\"input_ids\"] = pad_sequences(\n",
    "    df_input_ids_full, \n",
    "    maxlen=MAX_LEN, \n",
    "    dtype=\"long\", \n",
    "    padding=\"post\", \n",
    "    value=0).tolist()\n",
    "\n",
    "# Create XLNet masks: 1 for tokens 0 for padding\n",
    "attention_masks = []\n",
    "for input_id in df.input_ids:\n",
    "  mask = [int(i>0) for i in input_id]\n",
    "  attention_masks.append(mask)\n",
    "df[\"attention_masks\"] = attention_masks\n",
    "\n",
    "# Create XLNet segments: 0 for each token of the first sentence, \n",
    "# followed by a 1 for each token of the second sentence.  For one sentence \n",
    "# inputs, this is simply a sequence of 0s\n",
    "df[\"segment_masks\"] = np.zeros((df.shape[0], MAX_LEN), dtype=int).tolist()"
   ]
  },
  {
   "cell_type": "code",
   "execution_count": 12,
   "metadata": {
    "colab": {
     "base_uri": "https://localhost:8080/",
     "height": 642
    },
    "colab_type": "code",
    "executionInfo": {
     "elapsed": 624,
     "status": "ok",
     "timestamp": 1574023602658,
     "user": {
      "displayName": "Carlos Sancini",
      "photoUrl": "https://lh3.googleusercontent.com/a-/AAuE7mBK_a0VL329YfM0B72acZH97KLpfXxCOtGUCi9s=s64",
      "userId": "02726390835148099400"
     },
     "user_tz": 180
    },
    "id": "n3mCx93492k6",
    "outputId": "453e7f56-d3fb-4082-97f2-ce1a07a84cff"
   },
   "outputs": [
    {
     "name": "stdout",
     "output_type": "stream",
     "text": [
      "Index: 1165119\n",
      "The hijackers of an Indian Airlines plane won the release of three prominent militants jailed in India. All of them sped away from the airport in Afghanistan, trying to get out of the country. The names and nationalities of the hijackers are still unknown. With the release, more than 150 haggard passengers, kept on board for eight days, were freed unharmed. They flew to New Delhi, for family reunions, both wrenching and joyous.\n",
      "[32, 24362, 20, 48, 1280, 6227, 2352, 282, 18, 947, 20, 139, 3788, 3211, 11733, 25, 837, 9, 394, 20, 107, 24646, 308, 40, 18, 2212, 25, 1805, 19, 619, 22, 133, 78, 20, 18, 234, 9, 32, 1931, 21, 27321, 20, 18, 24362, 41, 194, 4027, 9, 473, 18, 947, 19, 70, 100, 4076, 10118, 299, 11992, 3372, 19, 1340, 31, 1036, 28, 869, 307, 19, 55, 8494, 28510, 9, 200, 5415, 22, 158, 6849, 19, 28, 273, 15459, 23, 19, 207, 17, 29741, 21, 30584, 9, 4145, 83, 8186, 3158, 10849, 7416, 83, 3158, 4, 3, 0, 0, 0, 0, 0, 0, 0, 0, 0, 0, 0, 0, 0, 0, 0, 0, 0, 0, 0, 0, 0, 0, 0, 0, 0, 0, 0, 0, 0, 0]\n",
      "98\n",
      "[1, 1, 1, 1, 1, 1, 1, 1, 1, 1, 1, 1, 1, 1, 1, 1, 1, 1, 1, 1, 1, 1, 1, 1, 1, 1, 1, 1, 1, 1, 1, 1, 1, 1, 1, 1, 1, 1, 1, 1, 1, 1, 1, 1, 1, 1, 1, 1, 1, 1, 1, 1, 1, 1, 1, 1, 1, 1, 1, 1, 1, 1, 1, 1, 1, 1, 1, 1, 1, 1, 1, 1, 1, 1, 1, 1, 1, 1, 1, 1, 1, 1, 1, 1, 1, 1, 1, 1, 1, 1, 1, 1, 1, 1, 1, 1, 1, 1, 0, 0, 0, 0, 0, 0, 0, 0, 0, 0, 0, 0, 0, 0, 0, 0, 0, 0, 0, 0, 0, 0, 0, 0, 0, 0, 0, 0, 0, 0]\n",
      "98\n",
      "[0, 0, 0, 0, 0, 0, 0, 0, 0, 0, 0, 0, 0, 0, 0, 0, 0, 0, 0, 0, 0, 0, 0, 0, 0, 0, 0, 0, 0, 0, 0, 0, 0, 0, 0, 0, 0, 0, 0, 0, 0, 0, 0, 0, 0, 0, 0, 0, 0, 0, 0, 0, 0, 0, 0, 0, 0, 0, 0, 0, 0, 0, 0, 0, 0, 0, 0, 0, 0, 0, 0, 0, 0, 0, 0, 0, 0, 0, 0, 0, 0, 0, 0, 0, 0, 0, 0, 0, 0, 0, 0, 0, 0, 0, 0, 0, 0, 0, 0, 0, 0, 0, 0, 0, 0, 0, 0, 0, 0, 0, 0, 0, 0, 0, 0, 0, 0, 0, 0, 0, 0, 0, 0, 0, 0, 0, 0, 0]\n",
      "0\n"
     ]
    }
   ],
   "source": [
    "# check for a observation with less than MAX_LEN tokens\n",
    "for i in df.index:\n",
    "  if(np.count_nonzero(df.loc[i, \"input_ids\"]) < 128):\n",
    "    print(\"Index:\", i)\n",
    "    print(df.loc[i, \"Text\"])\n",
    "    print(df.loc[i, \"input_ids\"])\n",
    "    print(np.count_nonzero(df.loc[i, \"input_ids\"]))\n",
    "    print(df.loc[i, \"attention_masks\"])\n",
    "    print(np.count_nonzero(df.loc[i, \"attention_masks\"]))\n",
    "    print(df.loc[i, \"segment_masks\"])\n",
    "    print(np.count_nonzero(df.loc[i, \"segment_masks\"]))\n",
    "    break\n"
   ]
  },
  {
   "cell_type": "code",
   "execution_count": 13,
   "metadata": {
    "colab": {
     "base_uri": "https://localhost:8080/",
     "height": 648
    },
    "colab_type": "code",
    "executionInfo": {
     "elapsed": 831,
     "status": "ok",
     "timestamp": 1574023780270,
     "user": {
      "displayName": "Carlos Sancini",
      "photoUrl": "https://lh3.googleusercontent.com/a-/AAuE7mBK_a0VL329YfM0B72acZH97KLpfXxCOtGUCi9s=s64",
      "userId": "02726390835148099400"
     },
     "user_tz": 180
    },
    "id": "xF6iYg5F5E9G",
    "outputId": "8dff47c7-418f-46a9-c519-37165533d078"
   },
   "outputs": [
    {
     "data": {
      "text/html": [
       "<div>\n",
       "<style scoped>\n",
       "    .dataframe tbody tr th:only-of-type {\n",
       "        vertical-align: middle;\n",
       "    }\n",
       "\n",
       "    .dataframe tbody tr th {\n",
       "        vertical-align: top;\n",
       "    }\n",
       "\n",
       "    .dataframe thead th {\n",
       "        text-align: right;\n",
       "    }\n",
       "</style>\n",
       "<table border=\"1\" class=\"dataframe\">\n",
       "  <thead>\n",
       "    <tr style=\"text-align: right;\">\n",
       "      <th></th>\n",
       "      <th>Text</th>\n",
       "      <th>World</th>\n",
       "      <th>Washington</th>\n",
       "      <th>New_York_and_Region</th>\n",
       "      <th>Front_Page</th>\n",
       "      <th>Business</th>\n",
       "      <th>US</th>\n",
       "      <th>Sports</th>\n",
       "      <th>Obituaries</th>\n",
       "      <th>Health</th>\n",
       "      <th>Education</th>\n",
       "      <th>Science</th>\n",
       "      <th>Technology</th>\n",
       "      <th>input_ids</th>\n",
       "      <th>attention_masks</th>\n",
       "      <th>segment_masks</th>\n",
       "    </tr>\n",
       "    <tr>\n",
       "      <th>Id</th>\n",
       "      <th></th>\n",
       "      <th></th>\n",
       "      <th></th>\n",
       "      <th></th>\n",
       "      <th></th>\n",
       "      <th></th>\n",
       "      <th></th>\n",
       "      <th></th>\n",
       "      <th></th>\n",
       "      <th></th>\n",
       "      <th></th>\n",
       "      <th></th>\n",
       "      <th></th>\n",
       "      <th></th>\n",
       "      <th></th>\n",
       "      <th></th>\n",
       "    </tr>\n",
       "  </thead>\n",
       "  <tbody>\n",
       "    <tr>\n",
       "      <th>1221402</th>\n",
       "      <td>CAN'T YOU HEAR ME CALLIN'  The Life of Bill Mo...</td>\n",
       "      <td>0</td>\n",
       "      <td>0</td>\n",
       "      <td>0</td>\n",
       "      <td>0</td>\n",
       "      <td>0</td>\n",
       "      <td>1</td>\n",
       "      <td>0</td>\n",
       "      <td>0</td>\n",
       "      <td>0</td>\n",
       "      <td>0</td>\n",
       "      <td>0</td>\n",
       "      <td>0</td>\n",
       "      <td>[7868, 26, 658, 13938, 732, 15026, 17, 5241, 2...</td>\n",
       "      <td>[1, 1, 1, 1, 1, 1, 1, 1, 1, 1, 1, 1, 1, 1, 1, ...</td>\n",
       "      <td>[0, 0, 0, 0, 0, 0, 0, 0, 0, 0, 0, 0, 0, 0, 0, ...</td>\n",
       "    </tr>\n",
       "    <tr>\n",
       "      <th>1220990</th>\n",
       "      <td>For the second time in two years, Darryl Straw...</td>\n",
       "      <td>0</td>\n",
       "      <td>0</td>\n",
       "      <td>0</td>\n",
       "      <td>0</td>\n",
       "      <td>0</td>\n",
       "      <td>0</td>\n",
       "      <td>1</td>\n",
       "      <td>0</td>\n",
       "      <td>1</td>\n",
       "      <td>0</td>\n",
       "      <td>0</td>\n",
       "      <td>0</td>\n",
       "      <td>[247, 18, 205, 92, 25, 87, 123, 19, 28242, 290...</td>\n",
       "      <td>[1, 1, 1, 1, 1, 1, 1, 1, 1, 1, 1, 1, 1, 1, 1, ...</td>\n",
       "      <td>[0, 0, 0, 0, 0, 0, 0, 0, 0, 0, 0, 0, 0, 0, 0, ...</td>\n",
       "    </tr>\n",
       "    <tr>\n",
       "      <th>1169482</th>\n",
       "      <td>A recent study of women on active duty in the ...</td>\n",
       "      <td>0</td>\n",
       "      <td>0</td>\n",
       "      <td>0</td>\n",
       "      <td>0</td>\n",
       "      <td>0</td>\n",
       "      <td>0</td>\n",
       "      <td>0</td>\n",
       "      <td>0</td>\n",
       "      <td>1</td>\n",
       "      <td>0</td>\n",
       "      <td>0</td>\n",
       "      <td>0</td>\n",
       "      <td>[79, 644, 757, 20, 412, 31, 1768, 3684, 25, 18...</td>\n",
       "      <td>[1, 1, 1, 1, 1, 1, 1, 1, 1, 1, 1, 1, 1, 1, 1, ...</td>\n",
       "      <td>[0, 0, 0, 0, 0, 0, 0, 0, 0, 0, 0, 0, 0, 0, 0, ...</td>\n",
       "    </tr>\n",
       "    <tr>\n",
       "      <th>1198566</th>\n",
       "      <td>\"Just put the violin on the shoulder, voomp!\"\\...</td>\n",
       "      <td>0</td>\n",
       "      <td>0</td>\n",
       "      <td>1</td>\n",
       "      <td>0</td>\n",
       "      <td>0</td>\n",
       "      <td>0</td>\n",
       "      <td>0</td>\n",
       "      <td>0</td>\n",
       "      <td>0</td>\n",
       "      <td>0</td>\n",
       "      <td>0</td>\n",
       "      <td>0</td>\n",
       "      <td>[17, 12, 5817, 331, 18, 17680, 31, 18, 2741, 1...</td>\n",
       "      <td>[1, 1, 1, 1, 1, 1, 1, 1, 1, 1, 1, 1, 1, 1, 1, ...</td>\n",
       "      <td>[0, 0, 0, 0, 0, 0, 0, 0, 0, 0, 0, 0, 0, 0, 0, ...</td>\n",
       "    </tr>\n",
       "    <tr>\n",
       "      <th>1195487</th>\n",
       "      <td>IN Paris recently the signs of spring were eve...</td>\n",
       "      <td>0</td>\n",
       "      <td>0</td>\n",
       "      <td>1</td>\n",
       "      <td>0</td>\n",
       "      <td>0</td>\n",
       "      <td>0</td>\n",
       "      <td>0</td>\n",
       "      <td>0</td>\n",
       "      <td>0</td>\n",
       "      <td>0</td>\n",
       "      <td>0</td>\n",
       "      <td>0</td>\n",
       "      <td>[7039, 1737, 1050, 18, 2832, 20, 1919, 55, 593...</td>\n",
       "      <td>[1, 1, 1, 1, 1, 1, 1, 1, 1, 1, 1, 1, 1, 1, 1, ...</td>\n",
       "      <td>[0, 0, 0, 0, 0, 0, 0, 0, 0, 0, 0, 0, 0, 0, 0, ...</td>\n",
       "    </tr>\n",
       "  </tbody>\n",
       "</table>\n",
       "</div>"
      ],
      "text/plain": [
       "                                                      Text  World  Washington  \\\n",
       "Id                                                                              \n",
       "1221402  CAN'T YOU HEAR ME CALLIN'  The Life of Bill Mo...      0           0   \n",
       "1220990  For the second time in two years, Darryl Straw...      0           0   \n",
       "1169482  A recent study of women on active duty in the ...      0           0   \n",
       "1198566  \"Just put the violin on the shoulder, voomp!\"\\...      0           0   \n",
       "1195487  IN Paris recently the signs of spring were eve...      0           0   \n",
       "\n",
       "         New_York_and_Region  Front_Page  Business  US  Sports  Obituaries  \\\n",
       "Id                                                                           \n",
       "1221402                    0           0         0   1       0           0   \n",
       "1220990                    0           0         0   0       1           0   \n",
       "1169482                    0           0         0   0       0           0   \n",
       "1198566                    1           0         0   0       0           0   \n",
       "1195487                    1           0         0   0       0           0   \n",
       "\n",
       "         Health  Education  Science  Technology  \\\n",
       "Id                                                \n",
       "1221402       0          0        0           0   \n",
       "1220990       1          0        0           0   \n",
       "1169482       1          0        0           0   \n",
       "1198566       0          0        0           0   \n",
       "1195487       0          0        0           0   \n",
       "\n",
       "                                                 input_ids  \\\n",
       "Id                                                           \n",
       "1221402  [7868, 26, 658, 13938, 732, 15026, 17, 5241, 2...   \n",
       "1220990  [247, 18, 205, 92, 25, 87, 123, 19, 28242, 290...   \n",
       "1169482  [79, 644, 757, 20, 412, 31, 1768, 3684, 25, 18...   \n",
       "1198566  [17, 12, 5817, 331, 18, 17680, 31, 18, 2741, 1...   \n",
       "1195487  [7039, 1737, 1050, 18, 2832, 20, 1919, 55, 593...   \n",
       "\n",
       "                                           attention_masks  \\\n",
       "Id                                                           \n",
       "1221402  [1, 1, 1, 1, 1, 1, 1, 1, 1, 1, 1, 1, 1, 1, 1, ...   \n",
       "1220990  [1, 1, 1, 1, 1, 1, 1, 1, 1, 1, 1, 1, 1, 1, 1, ...   \n",
       "1169482  [1, 1, 1, 1, 1, 1, 1, 1, 1, 1, 1, 1, 1, 1, 1, ...   \n",
       "1198566  [1, 1, 1, 1, 1, 1, 1, 1, 1, 1, 1, 1, 1, 1, 1, ...   \n",
       "1195487  [1, 1, 1, 1, 1, 1, 1, 1, 1, 1, 1, 1, 1, 1, 1, ...   \n",
       "\n",
       "                                             segment_masks  \n",
       "Id                                                          \n",
       "1221402  [0, 0, 0, 0, 0, 0, 0, 0, 0, 0, 0, 0, 0, 0, 0, ...  \n",
       "1220990  [0, 0, 0, 0, 0, 0, 0, 0, 0, 0, 0, 0, 0, 0, 0, ...  \n",
       "1169482  [0, 0, 0, 0, 0, 0, 0, 0, 0, 0, 0, 0, 0, 0, 0, ...  \n",
       "1198566  [0, 0, 0, 0, 0, 0, 0, 0, 0, 0, 0, 0, 0, 0, 0, ...  \n",
       "1195487  [0, 0, 0, 0, 0, 0, 0, 0, 0, 0, 0, 0, 0, 0, 0, ...  "
      ]
     },
     "execution_count": 13,
     "metadata": {},
     "output_type": "execute_result"
    }
   ],
   "source": [
    "df.sample(5)"
   ]
  },
  {
   "cell_type": "code",
   "execution_count": 14,
   "metadata": {
    "colab": {
     "base_uri": "https://localhost:8080/",
     "height": 126
    },
    "colab_type": "code",
    "executionInfo": {
     "elapsed": 32522,
     "status": "ok",
     "timestamp": 1574043942566,
     "user": {
      "displayName": "Carlos Sancini",
      "photoUrl": "https://lh3.googleusercontent.com/a-/AAuE7mBK_a0VL329YfM0B72acZH97KLpfXxCOtGUCi9s=s64",
      "userId": "02726390835148099400"
     },
     "user_tz": 180
    },
    "id": "a9y5n_oickMe",
    "outputId": "186d3f7f-8b8e-4726-af6d-2b293d780f27"
   },
   "outputs": [],
   "source": [
    "import os\n",
    "\n",
    "MODEL_PATH = \"../xlnet\""
   ]
  },
  {
   "cell_type": "code",
   "execution_count": 15,
   "metadata": {
    "colab": {},
    "colab_type": "code",
    "id": "6F9u8iDBLBhH"
   },
   "outputs": [],
   "source": [
    "xlnet_ds_prepared = MODEL_PATH + \"/xlnet_prepared_ds_parquet.gzip\"\n",
    "\n",
    "df.to_parquet(xlnet_ds_prepared, compression='gzip')\n",
    "df = pd.read_parquet(xlnet_ds_prepared)\n",
    "#df = df.sample(50000, random_state = SEED)"
   ]
  },
  {
   "cell_type": "markdown",
   "metadata": {
    "colab_type": "text",
    "id": "dvid14fald_t"
   },
   "source": [
    "#### Split training and test sets"
   ]
  },
  {
   "cell_type": "code",
   "execution_count": 16,
   "metadata": {
    "colab": {
     "base_uri": "https://localhost:8080/",
     "height": 35
    },
    "colab_type": "code",
    "executionInfo": {
     "elapsed": 1834,
     "status": "ok",
     "timestamp": 1574044056959,
     "user": {
      "displayName": "Carlos Sancini",
      "photoUrl": "https://lh3.googleusercontent.com/a-/AAuE7mBK_a0VL329YfM0B72acZH97KLpfXxCOtGUCi9s=s64",
      "userId": "02726390835148099400"
     },
     "user_tz": 180
    },
    "id": "VP0l4vBo_QiL",
    "outputId": "1869086e-bdbb-45a6-9ffa-2f3ef3108111"
   },
   "outputs": [
    {
     "name": "stdout",
     "output_type": "stream",
     "text": [
      "(25716, 16) (6430, 16)\n"
     ]
    }
   ],
   "source": [
    "from sklearn.model_selection import train_test_split\n",
    "\n",
    "train_df, test_df = train_test_split(df, test_size=0.2, random_state = SEED)\n",
    "\n",
    "print(train_df.shape, test_df.shape)"
   ]
  },
  {
   "cell_type": "markdown",
   "metadata": {
    "colab_type": "text",
    "id": "vcWkqqj1zZmZ"
   },
   "source": [
    "#### Put data into data loader"
   ]
  },
  {
   "cell_type": "code",
   "execution_count": 17,
   "metadata": {
    "colab": {},
    "colab_type": "code",
    "id": "pqqlXHl2GmAM"
   },
   "outputs": [],
   "source": [
    "tt_train_input_ids = torch.tensor(train_df[\"input_ids\"].tolist())\n",
    "tt_test_input_ids = torch.tensor(test_df[\"input_ids\"].tolist())\n",
    "\n",
    "tt_train_attention_masks = torch.tensor(train_df[\"attention_masks\"].tolist())\n",
    "tt_test_attention_masks = torch.tensor(test_df[\"attention_masks\"].tolist())\n",
    "\n",
    "tt_train_segment_masks = torch.tensor(train_df[\"segment_masks\"].tolist())\n",
    "tt_test_segment_masks = torch.tensor(test_df[\"segment_masks\"].tolist())\n",
    "\n",
    "label_columns = [\n",
    "  'World',\n",
    "  'Washington',\n",
    "  'New_York_and_Region',\n",
    "  'Front_Page',\n",
    "  'Business',\n",
    "  'US',\n",
    "  'Sports',\n",
    "  'Obituaries',\n",
    "  'Health',\n",
    "  'Education',\n",
    "  'Science',\n",
    "  'Technology']\n",
    "\n",
    "tt_train_labels = torch.tensor(train_df[label_columns].values.astype(np.float))\n",
    "tt_test_labels = torch.tensor(test_df[label_columns].values.astype(np.float))"
   ]
  },
  {
   "cell_type": "code",
   "execution_count": 18,
   "metadata": {
    "colab": {},
    "colab_type": "code",
    "id": "zIePNKLWzh6N"
   },
   "outputs": [],
   "source": [
    "# training batch size\n",
    "batch_num = 32\n",
    "\n",
    "train_data = TensorDataset(\n",
    "    tt_train_input_ids, \n",
    "    tt_train_attention_masks, \n",
    "    tt_train_segment_masks, \n",
    "    tt_train_labels)\n",
    "train_sampler = RandomSampler(train_data)\n",
    "train_dataloader = DataLoader(\n",
    "    train_data, sampler=train_sampler, batch_size=batch_num,drop_last=True)\n",
    "\n",
    "valid_data = TensorDataset(\n",
    "    tt_test_input_ids, \n",
    "    tt_test_attention_masks, \n",
    "    tt_test_segment_masks, \n",
    "    tt_test_labels)\n",
    "valid_sampler = SequentialSampler(valid_data)\n",
    "valid_dataloader = DataLoader(\n",
    "    valid_data, sampler=valid_sampler, batch_size=batch_num)"
   ]
  },
  {
   "cell_type": "markdown",
   "metadata": {
    "colab_type": "text",
    "id": "V6UEl2uP0so5"
   },
   "source": [
    "#### DPCNN"
   ]
  },
  {
   "cell_type": "code",
   "execution_count": 19,
   "metadata": {
    "colab": {},
    "colab_type": "code",
    "id": "LuxweYMN0qeJ"
   },
   "outputs": [],
   "source": [
    "class DPCNN(torch.nn.Module):\n",
    "    def __init__(self, num_labels, channel_size=250, width=768):\n",
    "        super(DPCNN, self).__init__()\n",
    "        self.conv_embedding = torch.nn.Conv2d(1, channel_size, (3, width))\n",
    "        self.conv2 = torch.nn.Conv2d(channel_size, channel_size, (3, 1))\n",
    "        self.pooling = torch.nn.MaxPool2d(kernel_size=(3,1), stride=2)\n",
    "        self.padding_conv = torch.nn.ZeroPad2d((0, 0, 1, 1))\n",
    "        self.padding_pool = torch.nn.ZeroPad2d((0, 0, 0, 1))\n",
    "        self.activation_function = torch.nn.ReLU()\n",
    "        self.last_linear = torch.nn.Linear(channel_size, num_labels)\n",
    "        self.channel_size = channel_size\n",
    "\n",
    "    def forward(self, embeddings):\n",
    "        \n",
    "        batch_size, width, height = embeddings.shape\n",
    "\n",
    "        # First transform the BERT embeddings (batch_size, num_characters, 768),\n",
    "        # like (64, 80, 768)\n",
    "        # to a 4D tensor like [64, 1, 80, 768] (required by the Conv2d)\n",
    "        x = embeddings.view((batch_size, 1, width, height))\n",
    "\n",
    "        # Run the first convolution (embedding). The output is [64, 250, 78, 1] \n",
    "        x = self.conv_embedding(x)\n",
    "        #print(f'1 {x.shape}')        \n",
    "        #x = self.activation_function(x)\n",
    "        x_save = x\n",
    "\n",
    "        # Run the second convolution. The output is [64, 250, 76, 1]\n",
    "        x = self.conv2(x)\n",
    "        #print(f'2 {x.shape}')\n",
    "\n",
    "        # Add padding at starting and ending rows of the tensor. After that the\n",
    "        # shape will be [64, 250, 78, 1]\n",
    "        x = self.padding_conv(x)\n",
    "        #x = self.activation_function(x)\n",
    "\n",
    "        # Run another convolution. After that the shape will be [64, 250, 76, 1]\n",
    "        x = self.conv2(x)\n",
    "        x = self.padding_conv(x)\n",
    "        x = x + self.activation_function(x_save)\n",
    "        #print(f'3 {x.shape}')\n",
    "\n",
    "        # Go over the blocks\n",
    "        while x.shape[-2] >= 2:\n",
    "            #print(x.shape)\n",
    "            x = self.padding_pool(x)\n",
    "            #print(f'3.1 {x.shape}')\n",
    "\n",
    "            # Save the pool output to add that to the convolutions at the end\n",
    "            pooling_x = self.pooling(x) \n",
    "            #print(f'pooling {pooling_x.shape}')\n",
    "\n",
    "            # Perform the first convolution\n",
    "            x = self.padding_conv(pooling_x)\n",
    "            x = torch.nn.functional.relu(x)\n",
    "            x = self.conv2(x)\n",
    "            #print(f'4 {x.shape}')\n",
    "\n",
    "            # Perform the second convolution\n",
    "            x = self.padding_conv(x)\n",
    "            x = F.relu(x)\n",
    "            x = self.conv2(x)\n",
    "            #print(f'5 {x.shape}')\n",
    "\n",
    "            # Do the addition \n",
    "            x = x + pooling_x\n",
    "\n",
    "        x = x.view(batch_size, self.channel_size)\n",
    "        x = self.last_linear(x)\n",
    "         \n",
    "        return x"
   ]
  },
  {
   "cell_type": "code",
   "execution_count": 20,
   "metadata": {
    "colab": {},
    "colab_type": "code",
    "id": "9xMtZ8Dk1k7o"
   },
   "outputs": [],
   "source": [
    "class XLNetDPCNN(XLNetPreTrainedModel):\n",
    "    \"\"\"XLNet model for multiple label classification.\"\"\"\n",
    "    def __init__(self, config):\n",
    "        super(XLNetDPCNN, self).__init__(config)\n",
    "        num_labels = len(label_columns)\n",
    "        self.num_labels = num_labels\n",
    "        self.xlnet = XLNetModel(config)\n",
    "        self.dropout = torch.nn.Dropout(config.dropout)\n",
    "        self.dpcnn = DPCNN(num_labels)\n",
    "        self.classifier = torch.nn.Linear(num_labels, num_labels)\n",
    "\n",
    "    def forward(self, \n",
    "                input_ids, \n",
    "                attention_mask=None, \n",
    "                mems=None, \n",
    "                perm_mask=None, \n",
    "                target_mapping=None,\n",
    "                token_type_ids=None, \n",
    "                input_mask=None, \n",
    "                head_mask=None, \n",
    "                labels=None):\n",
    "      \n",
    "        transformer_outputs = self.xlnet(\n",
    "            input_ids,\n",
    "            attention_mask=attention_mask,\n",
    "            mems=mems,\n",
    "            perm_mask=perm_mask,\n",
    "            target_mapping=target_mapping,\n",
    "            token_type_ids=token_type_ids,\n",
    "            input_mask=input_mask,\n",
    "            head_mask=head_mask)\n",
    "\n",
    "        output = transformer_outputs[0]\n",
    "        x = self.dropout(output) \n",
    "        x = self.dpcnn(x)\n",
    "\n",
    "        logits = self.classifier(x)\n",
    "\n",
    "        outputs = (logits,) + transformer_outputs[1:]  # Keep mems, hidden states, attentions if there are in it\n",
    "\n",
    "        if labels is not None:\n",
    "            if self.num_labels == 1:\n",
    "                #  We are doing regression\n",
    "                loss_fct = torch.nn.MSELoss()\n",
    "                loss = loss_fct(logits.view(-1), labels.view(-1))\n",
    "            else:\n",
    "                #  We multilabel multiclass\n",
    "                loss_fct = torch.nn.BCEWithLogitsLoss()\n",
    "                loss = loss_fct(logits.view(-1, self.num_labels), labels.view(-1, self.num_labels))\n",
    "            outputs = (loss,) + outputs\n",
    "\n",
    "        return outputs  # return (loss), logits, (mems), (hidden states), (attentions)\n",
    "\n"
   ]
  },
  {
   "cell_type": "markdown",
   "metadata": {
    "colab_type": "text",
    "id": "ub-NPcm_vMX-"
   },
   "source": [
    "#### Custom Transformers"
   ]
  },
  {
   "cell_type": "markdown",
   "metadata": {
    "colab_type": "text",
    "id": "SyEyQKcLzlF3"
   },
   "source": [
    "#### Load XLNet model"
   ]
  },
  {
   "cell_type": "code",
   "execution_count": 21,
   "metadata": {
    "colab": {
     "base_uri": "https://localhost:8080/",
     "height": 1000
    },
    "colab_type": "code",
    "executionInfo": {
     "elapsed": 3854,
     "status": "ok",
     "timestamp": 1574044421007,
     "user": {
      "displayName": "Carlos Sancini",
      "photoUrl": "https://lh3.googleusercontent.com/a-/AAuE7mBK_a0VL329YfM0B72acZH97KLpfXxCOtGUCi9s=s64",
      "userId": "02726390835148099400"
     },
     "user_tz": 180
    },
    "id": "mrsgCnjPzq1P",
    "outputId": "c7fcdb60-c182-4647-b2f9-f42ab06b2df9"
   },
   "outputs": [
    {
     "name": "stderr",
     "output_type": "stream",
     "text": [
      "Some weights of the model checkpoint at xlnet-base-cased were not used when initializing XLNetDPCNN: ['transformer.mask_emb', 'transformer.word_embedding.weight', 'transformer.layer.0.rel_attn.q', 'transformer.layer.0.rel_attn.k', 'transformer.layer.0.rel_attn.v', 'transformer.layer.0.rel_attn.o', 'transformer.layer.0.rel_attn.r', 'transformer.layer.0.rel_attn.r_r_bias', 'transformer.layer.0.rel_attn.r_s_bias', 'transformer.layer.0.rel_attn.r_w_bias', 'transformer.layer.0.rel_attn.seg_embed', 'transformer.layer.0.rel_attn.layer_norm.weight', 'transformer.layer.0.rel_attn.layer_norm.bias', 'transformer.layer.0.ff.layer_norm.weight', 'transformer.layer.0.ff.layer_norm.bias', 'transformer.layer.0.ff.layer_1.weight', 'transformer.layer.0.ff.layer_1.bias', 'transformer.layer.0.ff.layer_2.weight', 'transformer.layer.0.ff.layer_2.bias', 'transformer.layer.1.rel_attn.q', 'transformer.layer.1.rel_attn.k', 'transformer.layer.1.rel_attn.v', 'transformer.layer.1.rel_attn.o', 'transformer.layer.1.rel_attn.r', 'transformer.layer.1.rel_attn.r_r_bias', 'transformer.layer.1.rel_attn.r_s_bias', 'transformer.layer.1.rel_attn.r_w_bias', 'transformer.layer.1.rel_attn.seg_embed', 'transformer.layer.1.rel_attn.layer_norm.weight', 'transformer.layer.1.rel_attn.layer_norm.bias', 'transformer.layer.1.ff.layer_norm.weight', 'transformer.layer.1.ff.layer_norm.bias', 'transformer.layer.1.ff.layer_1.weight', 'transformer.layer.1.ff.layer_1.bias', 'transformer.layer.1.ff.layer_2.weight', 'transformer.layer.1.ff.layer_2.bias', 'transformer.layer.2.rel_attn.q', 'transformer.layer.2.rel_attn.k', 'transformer.layer.2.rel_attn.v', 'transformer.layer.2.rel_attn.o', 'transformer.layer.2.rel_attn.r', 'transformer.layer.2.rel_attn.r_r_bias', 'transformer.layer.2.rel_attn.r_s_bias', 'transformer.layer.2.rel_attn.r_w_bias', 'transformer.layer.2.rel_attn.seg_embed', 'transformer.layer.2.rel_attn.layer_norm.weight', 'transformer.layer.2.rel_attn.layer_norm.bias', 'transformer.layer.2.ff.layer_norm.weight', 'transformer.layer.2.ff.layer_norm.bias', 'transformer.layer.2.ff.layer_1.weight', 'transformer.layer.2.ff.layer_1.bias', 'transformer.layer.2.ff.layer_2.weight', 'transformer.layer.2.ff.layer_2.bias', 'transformer.layer.3.rel_attn.q', 'transformer.layer.3.rel_attn.k', 'transformer.layer.3.rel_attn.v', 'transformer.layer.3.rel_attn.o', 'transformer.layer.3.rel_attn.r', 'transformer.layer.3.rel_attn.r_r_bias', 'transformer.layer.3.rel_attn.r_s_bias', 'transformer.layer.3.rel_attn.r_w_bias', 'transformer.layer.3.rel_attn.seg_embed', 'transformer.layer.3.rel_attn.layer_norm.weight', 'transformer.layer.3.rel_attn.layer_norm.bias', 'transformer.layer.3.ff.layer_norm.weight', 'transformer.layer.3.ff.layer_norm.bias', 'transformer.layer.3.ff.layer_1.weight', 'transformer.layer.3.ff.layer_1.bias', 'transformer.layer.3.ff.layer_2.weight', 'transformer.layer.3.ff.layer_2.bias', 'transformer.layer.4.rel_attn.q', 'transformer.layer.4.rel_attn.k', 'transformer.layer.4.rel_attn.v', 'transformer.layer.4.rel_attn.o', 'transformer.layer.4.rel_attn.r', 'transformer.layer.4.rel_attn.r_r_bias', 'transformer.layer.4.rel_attn.r_s_bias', 'transformer.layer.4.rel_attn.r_w_bias', 'transformer.layer.4.rel_attn.seg_embed', 'transformer.layer.4.rel_attn.layer_norm.weight', 'transformer.layer.4.rel_attn.layer_norm.bias', 'transformer.layer.4.ff.layer_norm.weight', 'transformer.layer.4.ff.layer_norm.bias', 'transformer.layer.4.ff.layer_1.weight', 'transformer.layer.4.ff.layer_1.bias', 'transformer.layer.4.ff.layer_2.weight', 'transformer.layer.4.ff.layer_2.bias', 'transformer.layer.5.rel_attn.q', 'transformer.layer.5.rel_attn.k', 'transformer.layer.5.rel_attn.v', 'transformer.layer.5.rel_attn.o', 'transformer.layer.5.rel_attn.r', 'transformer.layer.5.rel_attn.r_r_bias', 'transformer.layer.5.rel_attn.r_s_bias', 'transformer.layer.5.rel_attn.r_w_bias', 'transformer.layer.5.rel_attn.seg_embed', 'transformer.layer.5.rel_attn.layer_norm.weight', 'transformer.layer.5.rel_attn.layer_norm.bias', 'transformer.layer.5.ff.layer_norm.weight', 'transformer.layer.5.ff.layer_norm.bias', 'transformer.layer.5.ff.layer_1.weight', 'transformer.layer.5.ff.layer_1.bias', 'transformer.layer.5.ff.layer_2.weight', 'transformer.layer.5.ff.layer_2.bias', 'transformer.layer.6.rel_attn.q', 'transformer.layer.6.rel_attn.k', 'transformer.layer.6.rel_attn.v', 'transformer.layer.6.rel_attn.o', 'transformer.layer.6.rel_attn.r', 'transformer.layer.6.rel_attn.r_r_bias', 'transformer.layer.6.rel_attn.r_s_bias', 'transformer.layer.6.rel_attn.r_w_bias', 'transformer.layer.6.rel_attn.seg_embed', 'transformer.layer.6.rel_attn.layer_norm.weight', 'transformer.layer.6.rel_attn.layer_norm.bias', 'transformer.layer.6.ff.layer_norm.weight', 'transformer.layer.6.ff.layer_norm.bias', 'transformer.layer.6.ff.layer_1.weight', 'transformer.layer.6.ff.layer_1.bias', 'transformer.layer.6.ff.layer_2.weight', 'transformer.layer.6.ff.layer_2.bias', 'transformer.layer.7.rel_attn.q', 'transformer.layer.7.rel_attn.k', 'transformer.layer.7.rel_attn.v', 'transformer.layer.7.rel_attn.o', 'transformer.layer.7.rel_attn.r', 'transformer.layer.7.rel_attn.r_r_bias', 'transformer.layer.7.rel_attn.r_s_bias', 'transformer.layer.7.rel_attn.r_w_bias', 'transformer.layer.7.rel_attn.seg_embed', 'transformer.layer.7.rel_attn.layer_norm.weight', 'transformer.layer.7.rel_attn.layer_norm.bias', 'transformer.layer.7.ff.layer_norm.weight', 'transformer.layer.7.ff.layer_norm.bias', 'transformer.layer.7.ff.layer_1.weight', 'transformer.layer.7.ff.layer_1.bias', 'transformer.layer.7.ff.layer_2.weight', 'transformer.layer.7.ff.layer_2.bias', 'transformer.layer.8.rel_attn.q', 'transformer.layer.8.rel_attn.k', 'transformer.layer.8.rel_attn.v', 'transformer.layer.8.rel_attn.o', 'transformer.layer.8.rel_attn.r', 'transformer.layer.8.rel_attn.r_r_bias', 'transformer.layer.8.rel_attn.r_s_bias', 'transformer.layer.8.rel_attn.r_w_bias', 'transformer.layer.8.rel_attn.seg_embed', 'transformer.layer.8.rel_attn.layer_norm.weight', 'transformer.layer.8.rel_attn.layer_norm.bias', 'transformer.layer.8.ff.layer_norm.weight', 'transformer.layer.8.ff.layer_norm.bias', 'transformer.layer.8.ff.layer_1.weight', 'transformer.layer.8.ff.layer_1.bias', 'transformer.layer.8.ff.layer_2.weight', 'transformer.layer.8.ff.layer_2.bias', 'transformer.layer.9.rel_attn.q', 'transformer.layer.9.rel_attn.k', 'transformer.layer.9.rel_attn.v', 'transformer.layer.9.rel_attn.o', 'transformer.layer.9.rel_attn.r', 'transformer.layer.9.rel_attn.r_r_bias', 'transformer.layer.9.rel_attn.r_s_bias', 'transformer.layer.9.rel_attn.r_w_bias', 'transformer.layer.9.rel_attn.seg_embed', 'transformer.layer.9.rel_attn.layer_norm.weight', 'transformer.layer.9.rel_attn.layer_norm.bias', 'transformer.layer.9.ff.layer_norm.weight', 'transformer.layer.9.ff.layer_norm.bias', 'transformer.layer.9.ff.layer_1.weight', 'transformer.layer.9.ff.layer_1.bias', 'transformer.layer.9.ff.layer_2.weight', 'transformer.layer.9.ff.layer_2.bias', 'transformer.layer.10.rel_attn.q', 'transformer.layer.10.rel_attn.k', 'transformer.layer.10.rel_attn.v', 'transformer.layer.10.rel_attn.o', 'transformer.layer.10.rel_attn.r', 'transformer.layer.10.rel_attn.r_r_bias', 'transformer.layer.10.rel_attn.r_s_bias', 'transformer.layer.10.rel_attn.r_w_bias', 'transformer.layer.10.rel_attn.seg_embed', 'transformer.layer.10.rel_attn.layer_norm.weight', 'transformer.layer.10.rel_attn.layer_norm.bias', 'transformer.layer.10.ff.layer_norm.weight', 'transformer.layer.10.ff.layer_norm.bias', 'transformer.layer.10.ff.layer_1.weight', 'transformer.layer.10.ff.layer_1.bias', 'transformer.layer.10.ff.layer_2.weight', 'transformer.layer.10.ff.layer_2.bias', 'transformer.layer.11.rel_attn.q', 'transformer.layer.11.rel_attn.k', 'transformer.layer.11.rel_attn.v', 'transformer.layer.11.rel_attn.o', 'transformer.layer.11.rel_attn.r', 'transformer.layer.11.rel_attn.r_r_bias', 'transformer.layer.11.rel_attn.r_s_bias', 'transformer.layer.11.rel_attn.r_w_bias', 'transformer.layer.11.rel_attn.seg_embed', 'transformer.layer.11.rel_attn.layer_norm.weight', 'transformer.layer.11.rel_attn.layer_norm.bias', 'transformer.layer.11.ff.layer_norm.weight', 'transformer.layer.11.ff.layer_norm.bias', 'transformer.layer.11.ff.layer_1.weight', 'transformer.layer.11.ff.layer_1.bias', 'transformer.layer.11.ff.layer_2.weight', 'transformer.layer.11.ff.layer_2.bias']\n",
      "- This IS expected if you are initializing XLNetDPCNN from the checkpoint of a model trained on another task or with another architecture (e.g. initializing a BertForSequenceClassification model from a BertForPreTraining model).\n",
      "- This IS NOT expected if you are initializing XLNetDPCNN from the checkpoint of a model that you expect to be exactly identical (initializing a BertForSequenceClassification model from a BertForSequenceClassification model).\n",
      "Some weights of XLNetDPCNN were not initialized from the model checkpoint at xlnet-base-cased and are newly initialized: ['transformer.xlnet.mask_emb', 'transformer.xlnet.word_embedding.weight', 'transformer.xlnet.layer.0.rel_attn.q', 'transformer.xlnet.layer.0.rel_attn.k', 'transformer.xlnet.layer.0.rel_attn.v', 'transformer.xlnet.layer.0.rel_attn.o', 'transformer.xlnet.layer.0.rel_attn.r', 'transformer.xlnet.layer.0.rel_attn.r_r_bias', 'transformer.xlnet.layer.0.rel_attn.r_s_bias', 'transformer.xlnet.layer.0.rel_attn.r_w_bias', 'transformer.xlnet.layer.0.rel_attn.seg_embed', 'transformer.xlnet.layer.0.rel_attn.layer_norm.weight', 'transformer.xlnet.layer.0.rel_attn.layer_norm.bias', 'transformer.xlnet.layer.0.ff.layer_norm.weight', 'transformer.xlnet.layer.0.ff.layer_norm.bias', 'transformer.xlnet.layer.0.ff.layer_1.weight', 'transformer.xlnet.layer.0.ff.layer_1.bias', 'transformer.xlnet.layer.0.ff.layer_2.weight', 'transformer.xlnet.layer.0.ff.layer_2.bias', 'transformer.xlnet.layer.1.rel_attn.q', 'transformer.xlnet.layer.1.rel_attn.k', 'transformer.xlnet.layer.1.rel_attn.v', 'transformer.xlnet.layer.1.rel_attn.o', 'transformer.xlnet.layer.1.rel_attn.r', 'transformer.xlnet.layer.1.rel_attn.r_r_bias', 'transformer.xlnet.layer.1.rel_attn.r_s_bias', 'transformer.xlnet.layer.1.rel_attn.r_w_bias', 'transformer.xlnet.layer.1.rel_attn.seg_embed', 'transformer.xlnet.layer.1.rel_attn.layer_norm.weight', 'transformer.xlnet.layer.1.rel_attn.layer_norm.bias', 'transformer.xlnet.layer.1.ff.layer_norm.weight', 'transformer.xlnet.layer.1.ff.layer_norm.bias', 'transformer.xlnet.layer.1.ff.layer_1.weight', 'transformer.xlnet.layer.1.ff.layer_1.bias', 'transformer.xlnet.layer.1.ff.layer_2.weight', 'transformer.xlnet.layer.1.ff.layer_2.bias', 'transformer.xlnet.layer.2.rel_attn.q', 'transformer.xlnet.layer.2.rel_attn.k', 'transformer.xlnet.layer.2.rel_attn.v', 'transformer.xlnet.layer.2.rel_attn.o', 'transformer.xlnet.layer.2.rel_attn.r', 'transformer.xlnet.layer.2.rel_attn.r_r_bias', 'transformer.xlnet.layer.2.rel_attn.r_s_bias', 'transformer.xlnet.layer.2.rel_attn.r_w_bias', 'transformer.xlnet.layer.2.rel_attn.seg_embed', 'transformer.xlnet.layer.2.rel_attn.layer_norm.weight', 'transformer.xlnet.layer.2.rel_attn.layer_norm.bias', 'transformer.xlnet.layer.2.ff.layer_norm.weight', 'transformer.xlnet.layer.2.ff.layer_norm.bias', 'transformer.xlnet.layer.2.ff.layer_1.weight', 'transformer.xlnet.layer.2.ff.layer_1.bias', 'transformer.xlnet.layer.2.ff.layer_2.weight', 'transformer.xlnet.layer.2.ff.layer_2.bias', 'transformer.xlnet.layer.3.rel_attn.q', 'transformer.xlnet.layer.3.rel_attn.k', 'transformer.xlnet.layer.3.rel_attn.v', 'transformer.xlnet.layer.3.rel_attn.o', 'transformer.xlnet.layer.3.rel_attn.r', 'transformer.xlnet.layer.3.rel_attn.r_r_bias', 'transformer.xlnet.layer.3.rel_attn.r_s_bias', 'transformer.xlnet.layer.3.rel_attn.r_w_bias', 'transformer.xlnet.layer.3.rel_attn.seg_embed', 'transformer.xlnet.layer.3.rel_attn.layer_norm.weight', 'transformer.xlnet.layer.3.rel_attn.layer_norm.bias', 'transformer.xlnet.layer.3.ff.layer_norm.weight', 'transformer.xlnet.layer.3.ff.layer_norm.bias', 'transformer.xlnet.layer.3.ff.layer_1.weight', 'transformer.xlnet.layer.3.ff.layer_1.bias', 'transformer.xlnet.layer.3.ff.layer_2.weight', 'transformer.xlnet.layer.3.ff.layer_2.bias', 'transformer.xlnet.layer.4.rel_attn.q', 'transformer.xlnet.layer.4.rel_attn.k', 'transformer.xlnet.layer.4.rel_attn.v', 'transformer.xlnet.layer.4.rel_attn.o', 'transformer.xlnet.layer.4.rel_attn.r', 'transformer.xlnet.layer.4.rel_attn.r_r_bias', 'transformer.xlnet.layer.4.rel_attn.r_s_bias', 'transformer.xlnet.layer.4.rel_attn.r_w_bias', 'transformer.xlnet.layer.4.rel_attn.seg_embed', 'transformer.xlnet.layer.4.rel_attn.layer_norm.weight', 'transformer.xlnet.layer.4.rel_attn.layer_norm.bias', 'transformer.xlnet.layer.4.ff.layer_norm.weight', 'transformer.xlnet.layer.4.ff.layer_norm.bias', 'transformer.xlnet.layer.4.ff.layer_1.weight', 'transformer.xlnet.layer.4.ff.layer_1.bias', 'transformer.xlnet.layer.4.ff.layer_2.weight', 'transformer.xlnet.layer.4.ff.layer_2.bias', 'transformer.xlnet.layer.5.rel_attn.q', 'transformer.xlnet.layer.5.rel_attn.k', 'transformer.xlnet.layer.5.rel_attn.v', 'transformer.xlnet.layer.5.rel_attn.o', 'transformer.xlnet.layer.5.rel_attn.r', 'transformer.xlnet.layer.5.rel_attn.r_r_bias', 'transformer.xlnet.layer.5.rel_attn.r_s_bias', 'transformer.xlnet.layer.5.rel_attn.r_w_bias', 'transformer.xlnet.layer.5.rel_attn.seg_embed', 'transformer.xlnet.layer.5.rel_attn.layer_norm.weight', 'transformer.xlnet.layer.5.rel_attn.layer_norm.bias', 'transformer.xlnet.layer.5.ff.layer_norm.weight', 'transformer.xlnet.layer.5.ff.layer_norm.bias', 'transformer.xlnet.layer.5.ff.layer_1.weight', 'transformer.xlnet.layer.5.ff.layer_1.bias', 'transformer.xlnet.layer.5.ff.layer_2.weight', 'transformer.xlnet.layer.5.ff.layer_2.bias', 'transformer.xlnet.layer.6.rel_attn.q', 'transformer.xlnet.layer.6.rel_attn.k', 'transformer.xlnet.layer.6.rel_attn.v', 'transformer.xlnet.layer.6.rel_attn.o', 'transformer.xlnet.layer.6.rel_attn.r', 'transformer.xlnet.layer.6.rel_attn.r_r_bias', 'transformer.xlnet.layer.6.rel_attn.r_s_bias', 'transformer.xlnet.layer.6.rel_attn.r_w_bias', 'transformer.xlnet.layer.6.rel_attn.seg_embed', 'transformer.xlnet.layer.6.rel_attn.layer_norm.weight', 'transformer.xlnet.layer.6.rel_attn.layer_norm.bias', 'transformer.xlnet.layer.6.ff.layer_norm.weight', 'transformer.xlnet.layer.6.ff.layer_norm.bias', 'transformer.xlnet.layer.6.ff.layer_1.weight', 'transformer.xlnet.layer.6.ff.layer_1.bias', 'transformer.xlnet.layer.6.ff.layer_2.weight', 'transformer.xlnet.layer.6.ff.layer_2.bias', 'transformer.xlnet.layer.7.rel_attn.q', 'transformer.xlnet.layer.7.rel_attn.k', 'transformer.xlnet.layer.7.rel_attn.v', 'transformer.xlnet.layer.7.rel_attn.o', 'transformer.xlnet.layer.7.rel_attn.r', 'transformer.xlnet.layer.7.rel_attn.r_r_bias', 'transformer.xlnet.layer.7.rel_attn.r_s_bias', 'transformer.xlnet.layer.7.rel_attn.r_w_bias', 'transformer.xlnet.layer.7.rel_attn.seg_embed', 'transformer.xlnet.layer.7.rel_attn.layer_norm.weight', 'transformer.xlnet.layer.7.rel_attn.layer_norm.bias', 'transformer.xlnet.layer.7.ff.layer_norm.weight', 'transformer.xlnet.layer.7.ff.layer_norm.bias', 'transformer.xlnet.layer.7.ff.layer_1.weight', 'transformer.xlnet.layer.7.ff.layer_1.bias', 'transformer.xlnet.layer.7.ff.layer_2.weight', 'transformer.xlnet.layer.7.ff.layer_2.bias', 'transformer.xlnet.layer.8.rel_attn.q', 'transformer.xlnet.layer.8.rel_attn.k', 'transformer.xlnet.layer.8.rel_attn.v', 'transformer.xlnet.layer.8.rel_attn.o', 'transformer.xlnet.layer.8.rel_attn.r', 'transformer.xlnet.layer.8.rel_attn.r_r_bias', 'transformer.xlnet.layer.8.rel_attn.r_s_bias', 'transformer.xlnet.layer.8.rel_attn.r_w_bias', 'transformer.xlnet.layer.8.rel_attn.seg_embed', 'transformer.xlnet.layer.8.rel_attn.layer_norm.weight', 'transformer.xlnet.layer.8.rel_attn.layer_norm.bias', 'transformer.xlnet.layer.8.ff.layer_norm.weight', 'transformer.xlnet.layer.8.ff.layer_norm.bias', 'transformer.xlnet.layer.8.ff.layer_1.weight', 'transformer.xlnet.layer.8.ff.layer_1.bias', 'transformer.xlnet.layer.8.ff.layer_2.weight', 'transformer.xlnet.layer.8.ff.layer_2.bias', 'transformer.xlnet.layer.9.rel_attn.q', 'transformer.xlnet.layer.9.rel_attn.k', 'transformer.xlnet.layer.9.rel_attn.v', 'transformer.xlnet.layer.9.rel_attn.o', 'transformer.xlnet.layer.9.rel_attn.r', 'transformer.xlnet.layer.9.rel_attn.r_r_bias', 'transformer.xlnet.layer.9.rel_attn.r_s_bias', 'transformer.xlnet.layer.9.rel_attn.r_w_bias', 'transformer.xlnet.layer.9.rel_attn.seg_embed', 'transformer.xlnet.layer.9.rel_attn.layer_norm.weight', 'transformer.xlnet.layer.9.rel_attn.layer_norm.bias', 'transformer.xlnet.layer.9.ff.layer_norm.weight', 'transformer.xlnet.layer.9.ff.layer_norm.bias', 'transformer.xlnet.layer.9.ff.layer_1.weight', 'transformer.xlnet.layer.9.ff.layer_1.bias', 'transformer.xlnet.layer.9.ff.layer_2.weight', 'transformer.xlnet.layer.9.ff.layer_2.bias', 'transformer.xlnet.layer.10.rel_attn.q', 'transformer.xlnet.layer.10.rel_attn.k', 'transformer.xlnet.layer.10.rel_attn.v', 'transformer.xlnet.layer.10.rel_attn.o', 'transformer.xlnet.layer.10.rel_attn.r', 'transformer.xlnet.layer.10.rel_attn.r_r_bias', 'transformer.xlnet.layer.10.rel_attn.r_s_bias', 'transformer.xlnet.layer.10.rel_attn.r_w_bias', 'transformer.xlnet.layer.10.rel_attn.seg_embed', 'transformer.xlnet.layer.10.rel_attn.layer_norm.weight', 'transformer.xlnet.layer.10.rel_attn.layer_norm.bias', 'transformer.xlnet.layer.10.ff.layer_norm.weight', 'transformer.xlnet.layer.10.ff.layer_norm.bias', 'transformer.xlnet.layer.10.ff.layer_1.weight', 'transformer.xlnet.layer.10.ff.layer_1.bias', 'transformer.xlnet.layer.10.ff.layer_2.weight', 'transformer.xlnet.layer.10.ff.layer_2.bias', 'transformer.xlnet.layer.11.rel_attn.q', 'transformer.xlnet.layer.11.rel_attn.k', 'transformer.xlnet.layer.11.rel_attn.v', 'transformer.xlnet.layer.11.rel_attn.o', 'transformer.xlnet.layer.11.rel_attn.r', 'transformer.xlnet.layer.11.rel_attn.r_r_bias', 'transformer.xlnet.layer.11.rel_attn.r_s_bias', 'transformer.xlnet.layer.11.rel_attn.r_w_bias', 'transformer.xlnet.layer.11.rel_attn.seg_embed', 'transformer.xlnet.layer.11.rel_attn.layer_norm.weight', 'transformer.xlnet.layer.11.rel_attn.layer_norm.bias', 'transformer.xlnet.layer.11.ff.layer_norm.weight', 'transformer.xlnet.layer.11.ff.layer_norm.bias', 'transformer.xlnet.layer.11.ff.layer_1.weight', 'transformer.xlnet.layer.11.ff.layer_1.bias', 'transformer.xlnet.layer.11.ff.layer_2.weight', 'transformer.xlnet.layer.11.ff.layer_2.bias', 'transformer.dpcnn.conv_embedding.weight', 'transformer.dpcnn.conv_embedding.bias', 'transformer.dpcnn.conv2.weight', 'transformer.dpcnn.conv2.bias', 'transformer.dpcnn.last_linear.weight', 'transformer.dpcnn.last_linear.bias', 'transformer.classifier.weight', 'transformer.classifier.bias']\n",
      "You should probably TRAIN this model on a down-stream task to be able to use it for predictions and inference.\n"
     ]
    },
    {
     "data": {
      "text/plain": [
       "XLNetDPCNN(\n",
       "  (xlnet): XLNetModel(\n",
       "    (word_embedding): Embedding(32000, 768)\n",
       "    (layer): ModuleList(\n",
       "      (0): XLNetLayer(\n",
       "        (rel_attn): XLNetRelativeAttention(\n",
       "          (layer_norm): LayerNorm((768,), eps=1e-12, elementwise_affine=True)\n",
       "          (dropout): Dropout(p=0.1, inplace=False)\n",
       "        )\n",
       "        (ff): XLNetFeedForward(\n",
       "          (layer_norm): LayerNorm((768,), eps=1e-12, elementwise_affine=True)\n",
       "          (layer_1): Linear(in_features=768, out_features=3072, bias=True)\n",
       "          (layer_2): Linear(in_features=3072, out_features=768, bias=True)\n",
       "          (dropout): Dropout(p=0.1, inplace=False)\n",
       "        )\n",
       "        (dropout): Dropout(p=0.1, inplace=False)\n",
       "      )\n",
       "      (1): XLNetLayer(\n",
       "        (rel_attn): XLNetRelativeAttention(\n",
       "          (layer_norm): LayerNorm((768,), eps=1e-12, elementwise_affine=True)\n",
       "          (dropout): Dropout(p=0.1, inplace=False)\n",
       "        )\n",
       "        (ff): XLNetFeedForward(\n",
       "          (layer_norm): LayerNorm((768,), eps=1e-12, elementwise_affine=True)\n",
       "          (layer_1): Linear(in_features=768, out_features=3072, bias=True)\n",
       "          (layer_2): Linear(in_features=3072, out_features=768, bias=True)\n",
       "          (dropout): Dropout(p=0.1, inplace=False)\n",
       "        )\n",
       "        (dropout): Dropout(p=0.1, inplace=False)\n",
       "      )\n",
       "      (2): XLNetLayer(\n",
       "        (rel_attn): XLNetRelativeAttention(\n",
       "          (layer_norm): LayerNorm((768,), eps=1e-12, elementwise_affine=True)\n",
       "          (dropout): Dropout(p=0.1, inplace=False)\n",
       "        )\n",
       "        (ff): XLNetFeedForward(\n",
       "          (layer_norm): LayerNorm((768,), eps=1e-12, elementwise_affine=True)\n",
       "          (layer_1): Linear(in_features=768, out_features=3072, bias=True)\n",
       "          (layer_2): Linear(in_features=3072, out_features=768, bias=True)\n",
       "          (dropout): Dropout(p=0.1, inplace=False)\n",
       "        )\n",
       "        (dropout): Dropout(p=0.1, inplace=False)\n",
       "      )\n",
       "      (3): XLNetLayer(\n",
       "        (rel_attn): XLNetRelativeAttention(\n",
       "          (layer_norm): LayerNorm((768,), eps=1e-12, elementwise_affine=True)\n",
       "          (dropout): Dropout(p=0.1, inplace=False)\n",
       "        )\n",
       "        (ff): XLNetFeedForward(\n",
       "          (layer_norm): LayerNorm((768,), eps=1e-12, elementwise_affine=True)\n",
       "          (layer_1): Linear(in_features=768, out_features=3072, bias=True)\n",
       "          (layer_2): Linear(in_features=3072, out_features=768, bias=True)\n",
       "          (dropout): Dropout(p=0.1, inplace=False)\n",
       "        )\n",
       "        (dropout): Dropout(p=0.1, inplace=False)\n",
       "      )\n",
       "      (4): XLNetLayer(\n",
       "        (rel_attn): XLNetRelativeAttention(\n",
       "          (layer_norm): LayerNorm((768,), eps=1e-12, elementwise_affine=True)\n",
       "          (dropout): Dropout(p=0.1, inplace=False)\n",
       "        )\n",
       "        (ff): XLNetFeedForward(\n",
       "          (layer_norm): LayerNorm((768,), eps=1e-12, elementwise_affine=True)\n",
       "          (layer_1): Linear(in_features=768, out_features=3072, bias=True)\n",
       "          (layer_2): Linear(in_features=3072, out_features=768, bias=True)\n",
       "          (dropout): Dropout(p=0.1, inplace=False)\n",
       "        )\n",
       "        (dropout): Dropout(p=0.1, inplace=False)\n",
       "      )\n",
       "      (5): XLNetLayer(\n",
       "        (rel_attn): XLNetRelativeAttention(\n",
       "          (layer_norm): LayerNorm((768,), eps=1e-12, elementwise_affine=True)\n",
       "          (dropout): Dropout(p=0.1, inplace=False)\n",
       "        )\n",
       "        (ff): XLNetFeedForward(\n",
       "          (layer_norm): LayerNorm((768,), eps=1e-12, elementwise_affine=True)\n",
       "          (layer_1): Linear(in_features=768, out_features=3072, bias=True)\n",
       "          (layer_2): Linear(in_features=3072, out_features=768, bias=True)\n",
       "          (dropout): Dropout(p=0.1, inplace=False)\n",
       "        )\n",
       "        (dropout): Dropout(p=0.1, inplace=False)\n",
       "      )\n",
       "      (6): XLNetLayer(\n",
       "        (rel_attn): XLNetRelativeAttention(\n",
       "          (layer_norm): LayerNorm((768,), eps=1e-12, elementwise_affine=True)\n",
       "          (dropout): Dropout(p=0.1, inplace=False)\n",
       "        )\n",
       "        (ff): XLNetFeedForward(\n",
       "          (layer_norm): LayerNorm((768,), eps=1e-12, elementwise_affine=True)\n",
       "          (layer_1): Linear(in_features=768, out_features=3072, bias=True)\n",
       "          (layer_2): Linear(in_features=3072, out_features=768, bias=True)\n",
       "          (dropout): Dropout(p=0.1, inplace=False)\n",
       "        )\n",
       "        (dropout): Dropout(p=0.1, inplace=False)\n",
       "      )\n",
       "      (7): XLNetLayer(\n",
       "        (rel_attn): XLNetRelativeAttention(\n",
       "          (layer_norm): LayerNorm((768,), eps=1e-12, elementwise_affine=True)\n",
       "          (dropout): Dropout(p=0.1, inplace=False)\n",
       "        )\n",
       "        (ff): XLNetFeedForward(\n",
       "          (layer_norm): LayerNorm((768,), eps=1e-12, elementwise_affine=True)\n",
       "          (layer_1): Linear(in_features=768, out_features=3072, bias=True)\n",
       "          (layer_2): Linear(in_features=3072, out_features=768, bias=True)\n",
       "          (dropout): Dropout(p=0.1, inplace=False)\n",
       "        )\n",
       "        (dropout): Dropout(p=0.1, inplace=False)\n",
       "      )\n",
       "      (8): XLNetLayer(\n",
       "        (rel_attn): XLNetRelativeAttention(\n",
       "          (layer_norm): LayerNorm((768,), eps=1e-12, elementwise_affine=True)\n",
       "          (dropout): Dropout(p=0.1, inplace=False)\n",
       "        )\n",
       "        (ff): XLNetFeedForward(\n",
       "          (layer_norm): LayerNorm((768,), eps=1e-12, elementwise_affine=True)\n",
       "          (layer_1): Linear(in_features=768, out_features=3072, bias=True)\n",
       "          (layer_2): Linear(in_features=3072, out_features=768, bias=True)\n",
       "          (dropout): Dropout(p=0.1, inplace=False)\n",
       "        )\n",
       "        (dropout): Dropout(p=0.1, inplace=False)\n",
       "      )\n",
       "      (9): XLNetLayer(\n",
       "        (rel_attn): XLNetRelativeAttention(\n",
       "          (layer_norm): LayerNorm((768,), eps=1e-12, elementwise_affine=True)\n",
       "          (dropout): Dropout(p=0.1, inplace=False)\n",
       "        )\n",
       "        (ff): XLNetFeedForward(\n",
       "          (layer_norm): LayerNorm((768,), eps=1e-12, elementwise_affine=True)\n",
       "          (layer_1): Linear(in_features=768, out_features=3072, bias=True)\n",
       "          (layer_2): Linear(in_features=3072, out_features=768, bias=True)\n",
       "          (dropout): Dropout(p=0.1, inplace=False)\n",
       "        )\n",
       "        (dropout): Dropout(p=0.1, inplace=False)\n",
       "      )\n",
       "      (10): XLNetLayer(\n",
       "        (rel_attn): XLNetRelativeAttention(\n",
       "          (layer_norm): LayerNorm((768,), eps=1e-12, elementwise_affine=True)\n",
       "          (dropout): Dropout(p=0.1, inplace=False)\n",
       "        )\n",
       "        (ff): XLNetFeedForward(\n",
       "          (layer_norm): LayerNorm((768,), eps=1e-12, elementwise_affine=True)\n",
       "          (layer_1): Linear(in_features=768, out_features=3072, bias=True)\n",
       "          (layer_2): Linear(in_features=3072, out_features=768, bias=True)\n",
       "          (dropout): Dropout(p=0.1, inplace=False)\n",
       "        )\n",
       "        (dropout): Dropout(p=0.1, inplace=False)\n",
       "      )\n",
       "      (11): XLNetLayer(\n",
       "        (rel_attn): XLNetRelativeAttention(\n",
       "          (layer_norm): LayerNorm((768,), eps=1e-12, elementwise_affine=True)\n",
       "          (dropout): Dropout(p=0.1, inplace=False)\n",
       "        )\n",
       "        (ff): XLNetFeedForward(\n",
       "          (layer_norm): LayerNorm((768,), eps=1e-12, elementwise_affine=True)\n",
       "          (layer_1): Linear(in_features=768, out_features=3072, bias=True)\n",
       "          (layer_2): Linear(in_features=3072, out_features=768, bias=True)\n",
       "          (dropout): Dropout(p=0.1, inplace=False)\n",
       "        )\n",
       "        (dropout): Dropout(p=0.1, inplace=False)\n",
       "      )\n",
       "    )\n",
       "    (dropout): Dropout(p=0.1, inplace=False)\n",
       "  )\n",
       "  (dropout): Dropout(p=0.1, inplace=False)\n",
       "  (dpcnn): DPCNN(\n",
       "    (conv_embedding): Conv2d(1, 250, kernel_size=(3, 768), stride=(1, 1))\n",
       "    (conv2): Conv2d(250, 250, kernel_size=(3, 1), stride=(1, 1))\n",
       "    (pooling): MaxPool2d(kernel_size=(3, 1), stride=2, padding=0, dilation=1, ceil_mode=False)\n",
       "    (padding_conv): ZeroPad2d(padding=(0, 0, 1, 1), value=0.0)\n",
       "    (padding_pool): ZeroPad2d(padding=(0, 0, 0, 1), value=0.0)\n",
       "    (activation_function): ReLU()\n",
       "    (last_linear): Linear(in_features=250, out_features=12, bias=True)\n",
       "  )\n",
       "  (classifier): Linear(in_features=12, out_features=12, bias=True)\n",
       ")"
      ]
     },
     "execution_count": 21,
     "metadata": {},
     "output_type": "execute_result"
    }
   ],
   "source": [
    "model = XLNetDPCNN.from_pretrained(\n",
    "    'xlnet-base-cased', num_labels=len(label_columns))\n",
    "model.cuda()"
   ]
  },
  {
   "cell_type": "code",
   "execution_count": 22,
   "metadata": {
    "colab": {},
    "colab_type": "code",
    "id": "y3gUYvgvzwTn"
   },
   "outputs": [],
   "source": [
    "# Set epoch and grad max num\n",
    "epochs = 2\n",
    "max_grad_norm = 1.0"
   ]
  },
  {
   "cell_type": "code",
   "execution_count": 23,
   "metadata": {
    "colab": {
     "base_uri": "https://localhost:8080/",
     "height": 319
    },
    "colab_type": "code",
    "executionInfo": {
     "elapsed": 984,
     "status": "ok",
     "timestamp": 1574044432183,
     "user": {
      "displayName": "Carlos Sancini",
      "photoUrl": "https://lh3.googleusercontent.com/a-/AAuE7mBK_a0VL329YfM0B72acZH97KLpfXxCOtGUCi9s=s64",
      "userId": "02726390835148099400"
     },
     "user_tz": 180
    },
    "id": "74tTvA4Iz1ED",
    "outputId": "549be8f8-ede6-4642-bbae-ffd8cf270323"
   },
   "outputs": [
    {
     "data": {
      "text/plain": [
       "AdamW (\n",
       "Parameter Group 0\n",
       "    betas: (0.9, 0.999)\n",
       "    correct_bias: True\n",
       "    eps: 1e-06\n",
       "    lr: 3e-05\n",
       "    weight_decay: 0.0\n",
       "    weight_decay_rate: 0.01\n",
       "\n",
       "Parameter Group 1\n",
       "    betas: (0.9, 0.999)\n",
       "    correct_bias: True\n",
       "    eps: 1e-06\n",
       "    lr: 3e-05\n",
       "    weight_decay: 0.0\n",
       "    weight_decay_rate: 0.0\n",
       ")"
      ]
     },
     "execution_count": 23,
     "metadata": {},
     "output_type": "execute_result"
    }
   ],
   "source": [
    "# Fine tune model all layer parameters\n",
    "param_optimizer = list(model.named_parameters())\n",
    "no_decay = ['bias', 'gamma', 'beta']\n",
    "optimizer_grouped_parameters = [\n",
    "    {'params': [p for n, p in param_optimizer if not any(nd in n for nd in no_decay)],\n",
    "      'weight_decay_rate': 0.01},\n",
    "    {'params': [p for n, p in param_optimizer if any(nd in n for nd in no_decay)],\n",
    "      'weight_decay_rate': 0.0}\n",
    "]\n",
    "    \n",
    "optimizer = AdamW(optimizer_grouped_parameters, lr=3e-5)\n",
    "optimizer"
   ]
  },
  {
   "cell_type": "markdown",
   "metadata": {
    "colab_type": "text",
    "id": "0FoP-2uA1vix"
   },
   "source": [
    "#### Fine-tuning the XLNet model"
   ]
  },
  {
   "cell_type": "code",
   "execution_count": 24,
   "metadata": {
    "colab": {},
    "colab_type": "code",
    "id": "iCvUimI91zEF"
   },
   "outputs": [
    {
     "data": {
      "text/plain": [
       "XLNetDPCNN(\n",
       "  (xlnet): XLNetModel(\n",
       "    (word_embedding): Embedding(32000, 768)\n",
       "    (layer): ModuleList(\n",
       "      (0): XLNetLayer(\n",
       "        (rel_attn): XLNetRelativeAttention(\n",
       "          (layer_norm): LayerNorm((768,), eps=1e-12, elementwise_affine=True)\n",
       "          (dropout): Dropout(p=0.1, inplace=False)\n",
       "        )\n",
       "        (ff): XLNetFeedForward(\n",
       "          (layer_norm): LayerNorm((768,), eps=1e-12, elementwise_affine=True)\n",
       "          (layer_1): Linear(in_features=768, out_features=3072, bias=True)\n",
       "          (layer_2): Linear(in_features=3072, out_features=768, bias=True)\n",
       "          (dropout): Dropout(p=0.1, inplace=False)\n",
       "        )\n",
       "        (dropout): Dropout(p=0.1, inplace=False)\n",
       "      )\n",
       "      (1): XLNetLayer(\n",
       "        (rel_attn): XLNetRelativeAttention(\n",
       "          (layer_norm): LayerNorm((768,), eps=1e-12, elementwise_affine=True)\n",
       "          (dropout): Dropout(p=0.1, inplace=False)\n",
       "        )\n",
       "        (ff): XLNetFeedForward(\n",
       "          (layer_norm): LayerNorm((768,), eps=1e-12, elementwise_affine=True)\n",
       "          (layer_1): Linear(in_features=768, out_features=3072, bias=True)\n",
       "          (layer_2): Linear(in_features=3072, out_features=768, bias=True)\n",
       "          (dropout): Dropout(p=0.1, inplace=False)\n",
       "        )\n",
       "        (dropout): Dropout(p=0.1, inplace=False)\n",
       "      )\n",
       "      (2): XLNetLayer(\n",
       "        (rel_attn): XLNetRelativeAttention(\n",
       "          (layer_norm): LayerNorm((768,), eps=1e-12, elementwise_affine=True)\n",
       "          (dropout): Dropout(p=0.1, inplace=False)\n",
       "        )\n",
       "        (ff): XLNetFeedForward(\n",
       "          (layer_norm): LayerNorm((768,), eps=1e-12, elementwise_affine=True)\n",
       "          (layer_1): Linear(in_features=768, out_features=3072, bias=True)\n",
       "          (layer_2): Linear(in_features=3072, out_features=768, bias=True)\n",
       "          (dropout): Dropout(p=0.1, inplace=False)\n",
       "        )\n",
       "        (dropout): Dropout(p=0.1, inplace=False)\n",
       "      )\n",
       "      (3): XLNetLayer(\n",
       "        (rel_attn): XLNetRelativeAttention(\n",
       "          (layer_norm): LayerNorm((768,), eps=1e-12, elementwise_affine=True)\n",
       "          (dropout): Dropout(p=0.1, inplace=False)\n",
       "        )\n",
       "        (ff): XLNetFeedForward(\n",
       "          (layer_norm): LayerNorm((768,), eps=1e-12, elementwise_affine=True)\n",
       "          (layer_1): Linear(in_features=768, out_features=3072, bias=True)\n",
       "          (layer_2): Linear(in_features=3072, out_features=768, bias=True)\n",
       "          (dropout): Dropout(p=0.1, inplace=False)\n",
       "        )\n",
       "        (dropout): Dropout(p=0.1, inplace=False)\n",
       "      )\n",
       "      (4): XLNetLayer(\n",
       "        (rel_attn): XLNetRelativeAttention(\n",
       "          (layer_norm): LayerNorm((768,), eps=1e-12, elementwise_affine=True)\n",
       "          (dropout): Dropout(p=0.1, inplace=False)\n",
       "        )\n",
       "        (ff): XLNetFeedForward(\n",
       "          (layer_norm): LayerNorm((768,), eps=1e-12, elementwise_affine=True)\n",
       "          (layer_1): Linear(in_features=768, out_features=3072, bias=True)\n",
       "          (layer_2): Linear(in_features=3072, out_features=768, bias=True)\n",
       "          (dropout): Dropout(p=0.1, inplace=False)\n",
       "        )\n",
       "        (dropout): Dropout(p=0.1, inplace=False)\n",
       "      )\n",
       "      (5): XLNetLayer(\n",
       "        (rel_attn): XLNetRelativeAttention(\n",
       "          (layer_norm): LayerNorm((768,), eps=1e-12, elementwise_affine=True)\n",
       "          (dropout): Dropout(p=0.1, inplace=False)\n",
       "        )\n",
       "        (ff): XLNetFeedForward(\n",
       "          (layer_norm): LayerNorm((768,), eps=1e-12, elementwise_affine=True)\n",
       "          (layer_1): Linear(in_features=768, out_features=3072, bias=True)\n",
       "          (layer_2): Linear(in_features=3072, out_features=768, bias=True)\n",
       "          (dropout): Dropout(p=0.1, inplace=False)\n",
       "        )\n",
       "        (dropout): Dropout(p=0.1, inplace=False)\n",
       "      )\n",
       "      (6): XLNetLayer(\n",
       "        (rel_attn): XLNetRelativeAttention(\n",
       "          (layer_norm): LayerNorm((768,), eps=1e-12, elementwise_affine=True)\n",
       "          (dropout): Dropout(p=0.1, inplace=False)\n",
       "        )\n",
       "        (ff): XLNetFeedForward(\n",
       "          (layer_norm): LayerNorm((768,), eps=1e-12, elementwise_affine=True)\n",
       "          (layer_1): Linear(in_features=768, out_features=3072, bias=True)\n",
       "          (layer_2): Linear(in_features=3072, out_features=768, bias=True)\n",
       "          (dropout): Dropout(p=0.1, inplace=False)\n",
       "        )\n",
       "        (dropout): Dropout(p=0.1, inplace=False)\n",
       "      )\n",
       "      (7): XLNetLayer(\n",
       "        (rel_attn): XLNetRelativeAttention(\n",
       "          (layer_norm): LayerNorm((768,), eps=1e-12, elementwise_affine=True)\n",
       "          (dropout): Dropout(p=0.1, inplace=False)\n",
       "        )\n",
       "        (ff): XLNetFeedForward(\n",
       "          (layer_norm): LayerNorm((768,), eps=1e-12, elementwise_affine=True)\n",
       "          (layer_1): Linear(in_features=768, out_features=3072, bias=True)\n",
       "          (layer_2): Linear(in_features=3072, out_features=768, bias=True)\n",
       "          (dropout): Dropout(p=0.1, inplace=False)\n",
       "        )\n",
       "        (dropout): Dropout(p=0.1, inplace=False)\n",
       "      )\n",
       "      (8): XLNetLayer(\n",
       "        (rel_attn): XLNetRelativeAttention(\n",
       "          (layer_norm): LayerNorm((768,), eps=1e-12, elementwise_affine=True)\n",
       "          (dropout): Dropout(p=0.1, inplace=False)\n",
       "        )\n",
       "        (ff): XLNetFeedForward(\n",
       "          (layer_norm): LayerNorm((768,), eps=1e-12, elementwise_affine=True)\n",
       "          (layer_1): Linear(in_features=768, out_features=3072, bias=True)\n",
       "          (layer_2): Linear(in_features=3072, out_features=768, bias=True)\n",
       "          (dropout): Dropout(p=0.1, inplace=False)\n",
       "        )\n",
       "        (dropout): Dropout(p=0.1, inplace=False)\n",
       "      )\n",
       "      (9): XLNetLayer(\n",
       "        (rel_attn): XLNetRelativeAttention(\n",
       "          (layer_norm): LayerNorm((768,), eps=1e-12, elementwise_affine=True)\n",
       "          (dropout): Dropout(p=0.1, inplace=False)\n",
       "        )\n",
       "        (ff): XLNetFeedForward(\n",
       "          (layer_norm): LayerNorm((768,), eps=1e-12, elementwise_affine=True)\n",
       "          (layer_1): Linear(in_features=768, out_features=3072, bias=True)\n",
       "          (layer_2): Linear(in_features=3072, out_features=768, bias=True)\n",
       "          (dropout): Dropout(p=0.1, inplace=False)\n",
       "        )\n",
       "        (dropout): Dropout(p=0.1, inplace=False)\n",
       "      )\n",
       "      (10): XLNetLayer(\n",
       "        (rel_attn): XLNetRelativeAttention(\n",
       "          (layer_norm): LayerNorm((768,), eps=1e-12, elementwise_affine=True)\n",
       "          (dropout): Dropout(p=0.1, inplace=False)\n",
       "        )\n",
       "        (ff): XLNetFeedForward(\n",
       "          (layer_norm): LayerNorm((768,), eps=1e-12, elementwise_affine=True)\n",
       "          (layer_1): Linear(in_features=768, out_features=3072, bias=True)\n",
       "          (layer_2): Linear(in_features=3072, out_features=768, bias=True)\n",
       "          (dropout): Dropout(p=0.1, inplace=False)\n",
       "        )\n",
       "        (dropout): Dropout(p=0.1, inplace=False)\n",
       "      )\n",
       "      (11): XLNetLayer(\n",
       "        (rel_attn): XLNetRelativeAttention(\n",
       "          (layer_norm): LayerNorm((768,), eps=1e-12, elementwise_affine=True)\n",
       "          (dropout): Dropout(p=0.1, inplace=False)\n",
       "        )\n",
       "        (ff): XLNetFeedForward(\n",
       "          (layer_norm): LayerNorm((768,), eps=1e-12, elementwise_affine=True)\n",
       "          (layer_1): Linear(in_features=768, out_features=3072, bias=True)\n",
       "          (layer_2): Linear(in_features=3072, out_features=768, bias=True)\n",
       "          (dropout): Dropout(p=0.1, inplace=False)\n",
       "        )\n",
       "        (dropout): Dropout(p=0.1, inplace=False)\n",
       "      )\n",
       "    )\n",
       "    (dropout): Dropout(p=0.1, inplace=False)\n",
       "  )\n",
       "  (dropout): Dropout(p=0.1, inplace=False)\n",
       "  (dpcnn): DPCNN(\n",
       "    (conv_embedding): Conv2d(1, 250, kernel_size=(3, 768), stride=(1, 1))\n",
       "    (conv2): Conv2d(250, 250, kernel_size=(3, 1), stride=(1, 1))\n",
       "    (pooling): MaxPool2d(kernel_size=(3, 1), stride=2, padding=0, dilation=1, ceil_mode=False)\n",
       "    (padding_conv): ZeroPad2d(padding=(0, 0, 1, 1), value=0.0)\n",
       "    (padding_pool): ZeroPad2d(padding=(0, 0, 0, 1), value=0.0)\n",
       "    (activation_function): ReLU()\n",
       "    (last_linear): Linear(in_features=250, out_features=12, bias=True)\n",
       "  )\n",
       "  (classifier): Linear(in_features=12, out_features=12, bias=True)\n",
       ")"
      ]
     },
     "execution_count": 24,
     "metadata": {},
     "output_type": "execute_result"
    }
   ],
   "source": [
    "model.train()"
   ]
  },
  {
   "cell_type": "code",
   "execution_count": 25,
   "metadata": {
    "colab": {
     "base_uri": "https://localhost:8080/",
     "height": 141
    },
    "colab_type": "code",
    "executionInfo": {
     "elapsed": 154531,
     "status": "ok",
     "timestamp": 1574043151918,
     "user": {
      "displayName": "Carlos Sancini",
      "photoUrl": "https://lh3.googleusercontent.com/a-/AAuE7mBK_a0VL329YfM0B72acZH97KLpfXxCOtGUCi9s=s64",
      "userId": "02726390835148099400"
     },
     "user_tz": 180
    },
    "id": "MqDr9Vl111Hi",
    "outputId": "3b871d45-9d7d-4b83-8e84-ad2a55e5b53c"
   },
   "outputs": [
    {
     "name": "stderr",
     "output_type": "stream",
     "text": [
      "Epoch:   0%|          | 0/2 [00:00<?, ?it/s]"
     ]
    },
    {
     "name": "stdout",
     "output_type": "stream",
     "text": [
      "***** Running training *****\n",
      "  Num examples = 25716\n",
      "  Batch size = 32\n"
     ]
    },
    {
     "name": "stderr",
     "output_type": "stream",
     "text": [
      "Epoch:  50%|█████     | 1/2 [24:39<24:39, 1479.40s/it]"
     ]
    },
    {
     "name": "stdout",
     "output_type": "stream",
     "text": [
      "Train loss: 0.2642765222673408\n"
     ]
    },
    {
     "name": "stderr",
     "output_type": "stream",
     "text": [
      "Epoch: 100%|██████████| 2/2 [49:31<00:00, 1485.88s/it]"
     ]
    },
    {
     "name": "stdout",
     "output_type": "stream",
     "text": [
      "Train loss: 0.1734589641481789\n"
     ]
    },
    {
     "name": "stderr",
     "output_type": "stream",
     "text": [
      "\n"
     ]
    }
   ],
   "source": [
    "print(\"***** Running training *****\")\n",
    "print(\"  Num examples = %d\"%(len(tt_train_input_ids)))\n",
    "print(\"  Batch size = %d\"%(batch_num))\n",
    "for _ in trange(epochs,desc=\"Epoch\"):\n",
    "    tr_loss = 0\n",
    "    nb_tr_examples, nb_tr_steps = 0, 0\n",
    "    for step, batch in enumerate(train_dataloader):\n",
    "        # add batch to gpu\n",
    "        batch = tuple(t.to(device) for t in batch)\n",
    "        b_input_ids, b_input_mask, b_segs, b_labels = batch\n",
    "        \n",
    "        # forward pass\n",
    "        outputs = model(\n",
    "            input_ids = b_input_ids, \n",
    "            token_type_ids = b_segs, \n",
    "            input_mask = b_input_mask,\n",
    "            labels= b_labels)\n",
    "        loss, logits = outputs[:2]\n",
    "        if n_gpu>1:\n",
    "            # When multi gpu, average it\n",
    "            loss = loss.mean()\n",
    "        \n",
    "        # backward pass\n",
    "        loss.backward()\n",
    "        \n",
    "        # track train loss\n",
    "        tr_loss += loss.item()\n",
    "        nb_tr_examples += b_input_ids.size(0)\n",
    "        nb_tr_steps += 1\n",
    "        \n",
    "        # gradient clipping\n",
    "        torch.nn.utils.clip_grad_norm_(parameters=model.parameters(), max_norm=max_grad_norm)\n",
    "        \n",
    "        # update parameters\n",
    "        optimizer.step()\n",
    "        optimizer.zero_grad()\n",
    "        \n",
    "    # print train loss per epoch\n",
    "    print(\"Train loss: {}\".format(tr_loss/nb_tr_steps))"
   ]
  },
  {
   "cell_type": "markdown",
   "metadata": {
    "colab_type": "text",
    "id": "JZfxzT3cChl5"
   },
   "source": [
    "#### Saving the model"
   ]
  },
  {
   "cell_type": "code",
   "execution_count": 26,
   "metadata": {
    "colab": {
     "base_uri": "https://localhost:8080/",
     "height": 35
    },
    "colab_type": "code",
    "executionInfo": {
     "elapsed": 1702,
     "status": "ok",
     "timestamp": 1574043632315,
     "user": {
      "displayName": "Carlos Sancini",
      "photoUrl": "https://lh3.googleusercontent.com/a-/AAuE7mBK_a0VL329YfM0B72acZH97KLpfXxCOtGUCi9s=s64",
      "userId": "02726390835148099400"
     },
     "user_tz": 180
    },
    "id": "irtWQYI9Ckuj",
    "outputId": "4c268caf-9dec-48be-9f9a-7a57a37016d3"
   },
   "outputs": [
    {
     "data": {
      "text/plain": [
       "('../xlnet/spiece.model',)"
      ]
     },
     "execution_count": 26,
     "metadata": {},
     "output_type": "execute_result"
    }
   ],
   "source": [
    "model_save_name = MODEL_PATH + \"/pytorch_model.bin\"\n",
    "model_config_save_name = MODEL_PATH + \"/config.json\"\n",
    "model_report_save_name = MODEL_PATH + \"/eval_results.txt\"\n",
    "\n",
    "torch.save(model.state_dict(), model_save_name)\n",
    "model.config.to_json_file(model_config_save_name)\n",
    "tokenizer.save_vocabulary(MODEL_PATH)"
   ]
  },
  {
   "cell_type": "markdown",
   "metadata": {
    "colab_type": "text",
    "id": "GfezBjSkDxxv"
   },
   "source": [
    "#### Loading finetuned model"
   ]
  },
  {
   "cell_type": "code",
   "execution_count": 27,
   "metadata": {
    "colab": {
     "base_uri": "https://localhost:8080/",
     "height": 1000
    },
    "colab_type": "code",
    "executionInfo": {
     "elapsed": 2454,
     "status": "ok",
     "timestamp": 1574043638363,
     "user": {
      "displayName": "Carlos Sancini",
      "photoUrl": "https://lh3.googleusercontent.com/a-/AAuE7mBK_a0VL329YfM0B72acZH97KLpfXxCOtGUCi9s=s64",
      "userId": "02726390835148099400"
     },
     "user_tz": 180
    },
    "id": "vzHLlBrcDvnF",
    "outputId": "8d2855aa-7707-4556-8fcc-7b1d6ebc9b67"
   },
   "outputs": [
    {
     "data": {
      "text/plain": [
       "XLNetDPCNN(\n",
       "  (xlnet): XLNetModel(\n",
       "    (word_embedding): Embedding(32000, 768)\n",
       "    (layer): ModuleList(\n",
       "      (0): XLNetLayer(\n",
       "        (rel_attn): XLNetRelativeAttention(\n",
       "          (layer_norm): LayerNorm((768,), eps=1e-12, elementwise_affine=True)\n",
       "          (dropout): Dropout(p=0.1, inplace=False)\n",
       "        )\n",
       "        (ff): XLNetFeedForward(\n",
       "          (layer_norm): LayerNorm((768,), eps=1e-12, elementwise_affine=True)\n",
       "          (layer_1): Linear(in_features=768, out_features=3072, bias=True)\n",
       "          (layer_2): Linear(in_features=3072, out_features=768, bias=True)\n",
       "          (dropout): Dropout(p=0.1, inplace=False)\n",
       "        )\n",
       "        (dropout): Dropout(p=0.1, inplace=False)\n",
       "      )\n",
       "      (1): XLNetLayer(\n",
       "        (rel_attn): XLNetRelativeAttention(\n",
       "          (layer_norm): LayerNorm((768,), eps=1e-12, elementwise_affine=True)\n",
       "          (dropout): Dropout(p=0.1, inplace=False)\n",
       "        )\n",
       "        (ff): XLNetFeedForward(\n",
       "          (layer_norm): LayerNorm((768,), eps=1e-12, elementwise_affine=True)\n",
       "          (layer_1): Linear(in_features=768, out_features=3072, bias=True)\n",
       "          (layer_2): Linear(in_features=3072, out_features=768, bias=True)\n",
       "          (dropout): Dropout(p=0.1, inplace=False)\n",
       "        )\n",
       "        (dropout): Dropout(p=0.1, inplace=False)\n",
       "      )\n",
       "      (2): XLNetLayer(\n",
       "        (rel_attn): XLNetRelativeAttention(\n",
       "          (layer_norm): LayerNorm((768,), eps=1e-12, elementwise_affine=True)\n",
       "          (dropout): Dropout(p=0.1, inplace=False)\n",
       "        )\n",
       "        (ff): XLNetFeedForward(\n",
       "          (layer_norm): LayerNorm((768,), eps=1e-12, elementwise_affine=True)\n",
       "          (layer_1): Linear(in_features=768, out_features=3072, bias=True)\n",
       "          (layer_2): Linear(in_features=3072, out_features=768, bias=True)\n",
       "          (dropout): Dropout(p=0.1, inplace=False)\n",
       "        )\n",
       "        (dropout): Dropout(p=0.1, inplace=False)\n",
       "      )\n",
       "      (3): XLNetLayer(\n",
       "        (rel_attn): XLNetRelativeAttention(\n",
       "          (layer_norm): LayerNorm((768,), eps=1e-12, elementwise_affine=True)\n",
       "          (dropout): Dropout(p=0.1, inplace=False)\n",
       "        )\n",
       "        (ff): XLNetFeedForward(\n",
       "          (layer_norm): LayerNorm((768,), eps=1e-12, elementwise_affine=True)\n",
       "          (layer_1): Linear(in_features=768, out_features=3072, bias=True)\n",
       "          (layer_2): Linear(in_features=3072, out_features=768, bias=True)\n",
       "          (dropout): Dropout(p=0.1, inplace=False)\n",
       "        )\n",
       "        (dropout): Dropout(p=0.1, inplace=False)\n",
       "      )\n",
       "      (4): XLNetLayer(\n",
       "        (rel_attn): XLNetRelativeAttention(\n",
       "          (layer_norm): LayerNorm((768,), eps=1e-12, elementwise_affine=True)\n",
       "          (dropout): Dropout(p=0.1, inplace=False)\n",
       "        )\n",
       "        (ff): XLNetFeedForward(\n",
       "          (layer_norm): LayerNorm((768,), eps=1e-12, elementwise_affine=True)\n",
       "          (layer_1): Linear(in_features=768, out_features=3072, bias=True)\n",
       "          (layer_2): Linear(in_features=3072, out_features=768, bias=True)\n",
       "          (dropout): Dropout(p=0.1, inplace=False)\n",
       "        )\n",
       "        (dropout): Dropout(p=0.1, inplace=False)\n",
       "      )\n",
       "      (5): XLNetLayer(\n",
       "        (rel_attn): XLNetRelativeAttention(\n",
       "          (layer_norm): LayerNorm((768,), eps=1e-12, elementwise_affine=True)\n",
       "          (dropout): Dropout(p=0.1, inplace=False)\n",
       "        )\n",
       "        (ff): XLNetFeedForward(\n",
       "          (layer_norm): LayerNorm((768,), eps=1e-12, elementwise_affine=True)\n",
       "          (layer_1): Linear(in_features=768, out_features=3072, bias=True)\n",
       "          (layer_2): Linear(in_features=3072, out_features=768, bias=True)\n",
       "          (dropout): Dropout(p=0.1, inplace=False)\n",
       "        )\n",
       "        (dropout): Dropout(p=0.1, inplace=False)\n",
       "      )\n",
       "      (6): XLNetLayer(\n",
       "        (rel_attn): XLNetRelativeAttention(\n",
       "          (layer_norm): LayerNorm((768,), eps=1e-12, elementwise_affine=True)\n",
       "          (dropout): Dropout(p=0.1, inplace=False)\n",
       "        )\n",
       "        (ff): XLNetFeedForward(\n",
       "          (layer_norm): LayerNorm((768,), eps=1e-12, elementwise_affine=True)\n",
       "          (layer_1): Linear(in_features=768, out_features=3072, bias=True)\n",
       "          (layer_2): Linear(in_features=3072, out_features=768, bias=True)\n",
       "          (dropout): Dropout(p=0.1, inplace=False)\n",
       "        )\n",
       "        (dropout): Dropout(p=0.1, inplace=False)\n",
       "      )\n",
       "      (7): XLNetLayer(\n",
       "        (rel_attn): XLNetRelativeAttention(\n",
       "          (layer_norm): LayerNorm((768,), eps=1e-12, elementwise_affine=True)\n",
       "          (dropout): Dropout(p=0.1, inplace=False)\n",
       "        )\n",
       "        (ff): XLNetFeedForward(\n",
       "          (layer_norm): LayerNorm((768,), eps=1e-12, elementwise_affine=True)\n",
       "          (layer_1): Linear(in_features=768, out_features=3072, bias=True)\n",
       "          (layer_2): Linear(in_features=3072, out_features=768, bias=True)\n",
       "          (dropout): Dropout(p=0.1, inplace=False)\n",
       "        )\n",
       "        (dropout): Dropout(p=0.1, inplace=False)\n",
       "      )\n",
       "      (8): XLNetLayer(\n",
       "        (rel_attn): XLNetRelativeAttention(\n",
       "          (layer_norm): LayerNorm((768,), eps=1e-12, elementwise_affine=True)\n",
       "          (dropout): Dropout(p=0.1, inplace=False)\n",
       "        )\n",
       "        (ff): XLNetFeedForward(\n",
       "          (layer_norm): LayerNorm((768,), eps=1e-12, elementwise_affine=True)\n",
       "          (layer_1): Linear(in_features=768, out_features=3072, bias=True)\n",
       "          (layer_2): Linear(in_features=3072, out_features=768, bias=True)\n",
       "          (dropout): Dropout(p=0.1, inplace=False)\n",
       "        )\n",
       "        (dropout): Dropout(p=0.1, inplace=False)\n",
       "      )\n",
       "      (9): XLNetLayer(\n",
       "        (rel_attn): XLNetRelativeAttention(\n",
       "          (layer_norm): LayerNorm((768,), eps=1e-12, elementwise_affine=True)\n",
       "          (dropout): Dropout(p=0.1, inplace=False)\n",
       "        )\n",
       "        (ff): XLNetFeedForward(\n",
       "          (layer_norm): LayerNorm((768,), eps=1e-12, elementwise_affine=True)\n",
       "          (layer_1): Linear(in_features=768, out_features=3072, bias=True)\n",
       "          (layer_2): Linear(in_features=3072, out_features=768, bias=True)\n",
       "          (dropout): Dropout(p=0.1, inplace=False)\n",
       "        )\n",
       "        (dropout): Dropout(p=0.1, inplace=False)\n",
       "      )\n",
       "      (10): XLNetLayer(\n",
       "        (rel_attn): XLNetRelativeAttention(\n",
       "          (layer_norm): LayerNorm((768,), eps=1e-12, elementwise_affine=True)\n",
       "          (dropout): Dropout(p=0.1, inplace=False)\n",
       "        )\n",
       "        (ff): XLNetFeedForward(\n",
       "          (layer_norm): LayerNorm((768,), eps=1e-12, elementwise_affine=True)\n",
       "          (layer_1): Linear(in_features=768, out_features=3072, bias=True)\n",
       "          (layer_2): Linear(in_features=3072, out_features=768, bias=True)\n",
       "          (dropout): Dropout(p=0.1, inplace=False)\n",
       "        )\n",
       "        (dropout): Dropout(p=0.1, inplace=False)\n",
       "      )\n",
       "      (11): XLNetLayer(\n",
       "        (rel_attn): XLNetRelativeAttention(\n",
       "          (layer_norm): LayerNorm((768,), eps=1e-12, elementwise_affine=True)\n",
       "          (dropout): Dropout(p=0.1, inplace=False)\n",
       "        )\n",
       "        (ff): XLNetFeedForward(\n",
       "          (layer_norm): LayerNorm((768,), eps=1e-12, elementwise_affine=True)\n",
       "          (layer_1): Linear(in_features=768, out_features=3072, bias=True)\n",
       "          (layer_2): Linear(in_features=3072, out_features=768, bias=True)\n",
       "          (dropout): Dropout(p=0.1, inplace=False)\n",
       "        )\n",
       "        (dropout): Dropout(p=0.1, inplace=False)\n",
       "      )\n",
       "    )\n",
       "    (dropout): Dropout(p=0.1, inplace=False)\n",
       "  )\n",
       "  (dropout): Dropout(p=0.1, inplace=False)\n",
       "  (dpcnn): DPCNN(\n",
       "    (conv_embedding): Conv2d(1, 250, kernel_size=(3, 768), stride=(1, 1))\n",
       "    (conv2): Conv2d(250, 250, kernel_size=(3, 1), stride=(1, 1))\n",
       "    (pooling): MaxPool2d(kernel_size=(3, 1), stride=2, padding=0, dilation=1, ceil_mode=False)\n",
       "    (padding_conv): ZeroPad2d(padding=(0, 0, 1, 1), value=0.0)\n",
       "    (padding_pool): ZeroPad2d(padding=(0, 0, 0, 1), value=0.0)\n",
       "    (activation_function): ReLU()\n",
       "    (last_linear): Linear(in_features=250, out_features=12, bias=True)\n",
       "  )\n",
       "  (classifier): Linear(in_features=12, out_features=12, bias=True)\n",
       ")"
      ]
     },
     "execution_count": 27,
     "metadata": {},
     "output_type": "execute_result"
    }
   ],
   "source": [
    "model = XLNetDPCNN.from_pretrained(\n",
    "    MODEL_PATH, num_labels=len(label_columns))\n",
    "model.cuda()"
   ]
  },
  {
   "cell_type": "markdown",
   "metadata": {
    "colab_type": "text",
    "id": "w3iXL7gbCAIt"
   },
   "source": [
    "#### Model evaluation"
   ]
  },
  {
   "cell_type": "code",
   "execution_count": 32,
   "metadata": {
    "colab": {},
    "colab_type": "code",
    "id": "FymaCDX6-5DW"
   },
   "outputs": [],
   "source": [
    "root_folder = '../xlnet'\n",
    "\n",
    "def load_model(folder=MODEL_PATH):\n",
    "    model = XLNetDPCNN.from_pretrained(MODEL_PATH, num_labels=len(label_columns))\n",
    "    \n",
    "    if n_gpu != 0:\n",
    "        model.cuda()\n",
    "      \n",
    "    return model\n",
    "\n",
    "def save_object(filename, obj, folder=root_folder):\n",
    "    obj_file = os.path.join(folder, filename)\n",
    "\n",
    "    if os.path.exists(obj_file):\n",
    "        os.remove(obj_file)\n",
    "\n",
    "    with open(obj_file, 'wb') as f:\n",
    "        pickle.dump(obj, f)\n",
    "\n",
    "def load_object(filename, folder=root_folder):\n",
    "    object_file = os.path.join(folder, filename)\n",
    "\n",
    "    with open(object_file, 'rb') as f:\n",
    "        return pickle.load(f)\n",
    "\n",
    "def calculate_confusion_matrix(data_loader, model, batch_size):\n",
    "    model.eval()\n",
    "    torch.cuda.empty_cache()\n",
    "    predictions = []\n",
    "    true_labels = []\n",
    "\n",
    "    with torch.no_grad():\n",
    "        for step, batch in enumerate(data_loader):\n",
    "            # add batch to gpu\n",
    "            if n_gpu != 0:\n",
    "                batch = tuple(t.to('cuda') for t in batch)\n",
    "            \n",
    "            logger.info(f'Step {step}')\n",
    "            #import pdb; pdb.set_trace()\n",
    "            b_input_ids, b_input_masks, b_segment_ids, b_labels = batch\n",
    "        \n",
    "            # forward pass\n",
    "            #raw_outputs = model(b_input_ids, b_segment_ids, b_input_masks)\n",
    "            raw_outputs = model(input_ids = b_input_ids, token_type_ids = b_segment_ids, input_mask = b_input_masks)\n",
    "            predictions.append((torch.sigmoid(raw_outputs[0]) > .5).cpu().numpy().astype(int))\n",
    "            true_labels.append(b_labels.cpu().numpy().astype(int))\n",
    "\n",
    "        true_labels = np.vstack(true_labels)[0:(batch_size * len(predictions)),]\n",
    "        predictions = np.vstack(predictions)\n",
    "\n",
    "        return (multilabel_confusion_matrix(true_labels, predictions),\n",
    "                true_labels,\n",
    "                predictions)\n",
    "\n",
    "def calculate_predictions(data_loader, model, batch_size):\n",
    "    if n_gpu != 0:\n",
    "        model.cuda()\n",
    "        torch.cuda.empty_cache()\n",
    "\n",
    "    model.eval()\n",
    "    result = None\n",
    "\n",
    "    with torch.no_grad():\n",
    "        for step, batch in enumerate(data_loader):\n",
    "            logger.info(f'Step {step}')\n",
    "            \n",
    "            # add batch to gpu\n",
    "            if n_gpu != 0:\n",
    "                batch = tuple(t.to('cuda') for t in batch)\n",
    "                \n",
    "            b_input_ids, b_input_masks, b_segment_ids, b_labels = batch\n",
    "        \n",
    "            # forward pass\n",
    "            raw_outputs = model(b_input_ids, b_segment_ids, b_input_masks)\n",
    "            predictions = torch.sigmoid(raw_outputs[2]).cpu()\n",
    "            predictions = predictions.numpy()\n",
    "            result = predictions if result is None else np.append(result, predictions, axis=0)\n",
    "            \n",
    "        return result\n",
    "\n",
    "def get_label_columns(data_frame):\n",
    "    skip_columns =  { 'Id', 'Text', 'input_ids', 'attention_masks', 'segment_masks' }\n",
    "    return [c for c in data_frame.columns if c not in skip_columns and '_Pred' not in c]\n",
    "\n",
    "def add_predictions(data_frame, features, model, batch_size):\n",
    "    logits = calculate_predictions(features, model, batch_size)\n",
    "    predictions = (logits > .5).astype(int)\n",
    "    \n",
    "    for i, column_name in enumerate(get_label_columns(data_frame)):\n",
    "        data_frame[f'{column_name}_Pred'] = predictions[:, i]\n",
    "\n",
    "def add_predictions_to_dataframe(data_frame, predictions):\n",
    "    for i, column_name in enumerate(get_label_columns(data_frame)):\n",
    "        data_frame[f'{column_name}_Pred'] = predictions[:, i]\n",
    "        \n",
    "class ModelResult:\n",
    "    def __init__(self, data_frame, features, model, batch_size):\n",
    "        confusion_matrix, labels, predictions = calculate_confusion_matrix(features, model, batch_size)\n",
    "        self.confusion_matrix = confusion_matrix\n",
    "        self.labels = labels\n",
    "        self.predictions = predictions\n",
    "        self.label_columns = get_label_columns(data_frame)\n",
    "        \n",
    "    def save(self, filename):\n",
    "        save_object(filename, self)\n",
    "        \n",
    "    def get_classification_report(self, output_dictionary):\n",
    "        return classification_report(self.labels, self.predictions, \n",
    "                                     target_names=self.label_columns, \n",
    "                                     output_dict=output_dictionary)\n",
    "        \n",
    "    def get_results_dataframe(self):\n",
    "        report_dict = self.get_classification_report(True)\n",
    "        label_columns = list(self.label_columns)\n",
    "        label_columns.append('weighted avg')\n",
    "        classification_results = pd.DataFrame({'Label':label_columns})\n",
    "        classification_results['Precision'] = [report_dict[c]['precision'] for c in label_columns]\n",
    "        classification_results['Recall'] = [report_dict[c]['recall'] for c in label_columns]\n",
    "        classification_results['F1-Score'] = [report_dict[c]['f1-score'] for c in label_columns]\n",
    "        classification_results['Support'] = [report_dict[c]['support'] for c in label_columns]\n",
    "        classification_results.loc[classification_results['Label'] == 'weighted avg', 'Label'] = 'Weighted Average'\n",
    "        \n",
    "        return classification_results"
   ]
  },
  {
   "cell_type": "code",
   "execution_count": 33,
   "metadata": {},
   "outputs": [],
   "source": [
    "model = load_model()"
   ]
  },
  {
   "cell_type": "code",
   "execution_count": 34,
   "metadata": {},
   "outputs": [],
   "source": [
    "model_results = ModelResult(test_df, valid_dataloader, model, 100)"
   ]
  },
  {
   "cell_type": "code",
   "execution_count": 35,
   "metadata": {},
   "outputs": [],
   "source": [
    "model_results.save('xlnet_dpcnn_result_test.pkl')"
   ]
  },
  {
   "cell_type": "code",
   "execution_count": 36,
   "metadata": {},
   "outputs": [],
   "source": [
    "model_results = load_object('xlnet_dpcnn_result_test.pkl')\n",
    "model_results.label_columns = get_label_columns(test_df)"
   ]
  },
  {
   "cell_type": "code",
   "execution_count": 37,
   "metadata": {},
   "outputs": [
    {
     "name": "stderr",
     "output_type": "stream",
     "text": [
      "<ipython-input-32-febcba5a553d>:94: SettingWithCopyWarning: \n",
      "A value is trying to be set on a copy of a slice from a DataFrame.\n",
      "Try using .loc[row_indexer,col_indexer] = value instead\n",
      "\n",
      "See the caveats in the documentation: https://pandas.pydata.org/pandas-docs/stable/user_guide/indexing.html#returning-a-view-versus-a-copy\n",
      "  data_frame[f'{column_name}_Pred'] = predictions[:, i]\n"
     ]
    }
   ],
   "source": [
    "add_predictions_to_dataframe(test_df, model_results.predictions)"
   ]
  },
  {
   "cell_type": "code",
   "execution_count": 38,
   "metadata": {},
   "outputs": [
    {
     "data": {
      "text/plain": [
       "<AxesSubplot:ylabel='Frequency'>"
      ]
     },
     "execution_count": 38,
     "metadata": {},
     "output_type": "execute_result"
    },
    {
     "data": {
      "image/png": "[encoded data removed]",
      "text/plain": [
       "<Figure size 432x288 with 1 Axes>"
      ]
     },
     "metadata": {
      "needs_background": "light"
     },
     "output_type": "display_data"
    }
   ],
   "source": [
    "test_df[get_label_columns(test_df)].sum(1).plot.hist()"
   ]
  },
  {
   "cell_type": "code",
   "execution_count": 39,
   "metadata": {},
   "outputs": [
    {
     "name": "stderr",
     "output_type": "stream",
     "text": [
      "/usr/local/lib/python3.8/dist-packages/sklearn/metrics/_classification.py:1245: UndefinedMetricWarning: Precision and F-score are ill-defined and being set to 0.0 in labels with no predicted samples. Use `zero_division` parameter to control this behavior.\n",
      "  _warn_prf(average, modifier, msg_start, len(result))\n",
      "/usr/local/lib/python3.8/dist-packages/sklearn/metrics/_classification.py:1245: UndefinedMetricWarning: Precision and F-score are ill-defined and being set to 0.0 in samples with no predicted labels. Use `zero_division` parameter to control this behavior.\n",
      "  _warn_prf(average, modifier, msg_start, len(result))\n"
     ]
    },
    {
     "data": {
      "text/html": [
       "<div>\n",
       "<style scoped>\n",
       "    .dataframe tbody tr th:only-of-type {\n",
       "        vertical-align: middle;\n",
       "    }\n",
       "\n",
       "    .dataframe tbody tr th {\n",
       "        vertical-align: top;\n",
       "    }\n",
       "\n",
       "    .dataframe thead th {\n",
       "        text-align: right;\n",
       "    }\n",
       "</style>\n",
       "<table border=\"1\" class=\"dataframe\">\n",
       "  <thead>\n",
       "    <tr style=\"text-align: right;\">\n",
       "      <th></th>\n",
       "      <th>Label</th>\n",
       "      <th>Precision</th>\n",
       "      <th>Recall</th>\n",
       "      <th>F1-Score</th>\n",
       "      <th>Support</th>\n",
       "    </tr>\n",
       "  </thead>\n",
       "  <tbody>\n",
       "    <tr>\n",
       "      <th>0</th>\n",
       "      <td>World</td>\n",
       "      <td>0.760479</td>\n",
       "      <td>0.573363</td>\n",
       "      <td>0.653797</td>\n",
       "      <td>886</td>\n",
       "    </tr>\n",
       "    <tr>\n",
       "      <th>1</th>\n",
       "      <td>Washington</td>\n",
       "      <td>0.866883</td>\n",
       "      <td>0.359838</td>\n",
       "      <td>0.508571</td>\n",
       "      <td>742</td>\n",
       "    </tr>\n",
       "    <tr>\n",
       "      <th>2</th>\n",
       "      <td>New_York_and_Region</td>\n",
       "      <td>0.859075</td>\n",
       "      <td>0.660646</td>\n",
       "      <td>0.746906</td>\n",
       "      <td>1827</td>\n",
       "    </tr>\n",
       "    <tr>\n",
       "      <th>3</th>\n",
       "      <td>Front_Page</td>\n",
       "      <td>0.818182</td>\n",
       "      <td>0.188811</td>\n",
       "      <td>0.306818</td>\n",
       "      <td>286</td>\n",
       "    </tr>\n",
       "    <tr>\n",
       "      <th>4</th>\n",
       "      <td>Business</td>\n",
       "      <td>0.886792</td>\n",
       "      <td>0.766007</td>\n",
       "      <td>0.821986</td>\n",
       "      <td>859</td>\n",
       "    </tr>\n",
       "    <tr>\n",
       "      <th>5</th>\n",
       "      <td>US</td>\n",
       "      <td>0.736527</td>\n",
       "      <td>0.625954</td>\n",
       "      <td>0.676754</td>\n",
       "      <td>1965</td>\n",
       "    </tr>\n",
       "    <tr>\n",
       "      <th>6</th>\n",
       "      <td>Sports</td>\n",
       "      <td>0.916480</td>\n",
       "      <td>0.965171</td>\n",
       "      <td>0.940196</td>\n",
       "      <td>1694</td>\n",
       "    </tr>\n",
       "    <tr>\n",
       "      <th>7</th>\n",
       "      <td>Obituaries</td>\n",
       "      <td>0.973978</td>\n",
       "      <td>0.966790</td>\n",
       "      <td>0.970370</td>\n",
       "      <td>271</td>\n",
       "    </tr>\n",
       "    <tr>\n",
       "      <th>8</th>\n",
       "      <td>Health</td>\n",
       "      <td>1.000000</td>\n",
       "      <td>0.006623</td>\n",
       "      <td>0.013158</td>\n",
       "      <td>302</td>\n",
       "    </tr>\n",
       "    <tr>\n",
       "      <th>9</th>\n",
       "      <td>Education</td>\n",
       "      <td>0.000000</td>\n",
       "      <td>0.000000</td>\n",
       "      <td>0.000000</td>\n",
       "      <td>78</td>\n",
       "    </tr>\n",
       "    <tr>\n",
       "      <th>10</th>\n",
       "      <td>Science</td>\n",
       "      <td>1.000000</td>\n",
       "      <td>0.010417</td>\n",
       "      <td>0.020619</td>\n",
       "      <td>192</td>\n",
       "    </tr>\n",
       "    <tr>\n",
       "      <th>11</th>\n",
       "      <td>Technology</td>\n",
       "      <td>0.413793</td>\n",
       "      <td>0.167832</td>\n",
       "      <td>0.238806</td>\n",
       "      <td>143</td>\n",
       "    </tr>\n",
       "    <tr>\n",
       "      <th>12</th>\n",
       "      <td>Weighted Average</td>\n",
       "      <td>0.832797</td>\n",
       "      <td>0.632666</td>\n",
       "      <td>0.686060</td>\n",
       "      <td>9245</td>\n",
       "    </tr>\n",
       "  </tbody>\n",
       "</table>\n",
       "</div>"
      ],
      "text/plain": [
       "                  Label  Precision    Recall  F1-Score  Support\n",
       "0                 World   0.760479  0.573363  0.653797      886\n",
       "1            Washington   0.866883  0.359838  0.508571      742\n",
       "2   New_York_and_Region   0.859075  0.660646  0.746906     1827\n",
       "3            Front_Page   0.818182  0.188811  0.306818      286\n",
       "4              Business   0.886792  0.766007  0.821986      859\n",
       "5                    US   0.736527  0.625954  0.676754     1965\n",
       "6                Sports   0.916480  0.965171  0.940196     1694\n",
       "7            Obituaries   0.973978  0.966790  0.970370      271\n",
       "8                Health   1.000000  0.006623  0.013158      302\n",
       "9             Education   0.000000  0.000000  0.000000       78\n",
       "10              Science   1.000000  0.010417  0.020619      192\n",
       "11           Technology   0.413793  0.167832  0.238806      143\n",
       "12     Weighted Average   0.832797  0.632666  0.686060     9245"
      ]
     },
     "execution_count": 39,
     "metadata": {},
     "output_type": "execute_result"
    }
   ],
   "source": [
    "model_results.get_results_dataframe()"
   ]
  },
  {
   "cell_type": "code",
   "execution_count": 40,
   "metadata": {},
   "outputs": [
    {
     "name": "stderr",
     "output_type": "stream",
     "text": [
      "/usr/local/lib/python3.8/dist-packages/sklearn/metrics/_classification.py:1245: UndefinedMetricWarning: Precision and F-score are ill-defined and being set to 0.0 in labels with no predicted samples. Use `zero_division` parameter to control this behavior.\n",
      "  _warn_prf(average, modifier, msg_start, len(result))\n",
      "/usr/local/lib/python3.8/dist-packages/sklearn/metrics/_classification.py:1245: UndefinedMetricWarning: Precision and F-score are ill-defined and being set to 0.0 in samples with no predicted labels. Use `zero_division` parameter to control this behavior.\n",
      "  _warn_prf(average, modifier, msg_start, len(result))\n"
     ]
    },
    {
     "data": {
      "text/plain": [
       "<AxesSubplot:ylabel='Label'>"
      ]
     },
     "execution_count": 40,
     "metadata": {},
     "output_type": "execute_result"
    },
    {
     "data": {
      "image/png": "[encoded data removed]",
      "text/plain": [
       "<Figure size 432x288 with 1 Axes>"
      ]
     },
     "metadata": {
      "needs_background": "light"
     },
     "output_type": "display_data"
    }
   ],
   "source": [
    "model_results.get_results_dataframe().plot.barh(x='Label', y='Precision')"
   ]
  },
  {
   "cell_type": "markdown",
   "metadata": {},
   "source": [
    "#### Number of matches"
   ]
  },
  {
   "cell_type": "code",
   "execution_count": 41,
   "metadata": {},
   "outputs": [
    {
     "data": {
      "text/plain": [
       "<AxesSubplot:ylabel='Frequency'>"
      ]
     },
     "execution_count": 41,
     "metadata": {},
     "output_type": "execute_result"
    },
    {
     "data": {
      "image/png": "[encoded data removed]",
      "text/plain": [
       "<Figure size 432x288 with 1 Axes>"
      ]
     },
     "metadata": {
      "needs_background": "light"
     },
     "output_type": "display_data"
    }
   ],
   "source": [
    "pd.DataFrame({'x':((model_results.labels == model_results.predictions).astype(int).sum(1))}).plot.hist()"
   ]
  },
  {
   "cell_type": "code",
   "execution_count": null,
   "metadata": {},
   "outputs": [],
   "source": []
  },
  {
   "cell_type": "code",
   "execution_count": 42,
   "metadata": {},
   "outputs": [],
   "source": [
    "model.eval();"
   ]
  },
  {
   "cell_type": "code",
   "execution_count": 43,
   "metadata": {
    "colab": {},
    "colab_type": "code",
    "id": "OUewusx3EKeY"
   },
   "outputs": [],
   "source": [
    "# Softtmax accuracy\n",
    "#def accuracy(out, labels):\n",
    "#    outputs = np.argmax(out, axis=1)\n",
    "#    return np.sum(outputs == labels)\n",
    "\n",
    "# Multilabel accuracy\n",
    "def accuracy(y_pred, y_true, thresh=0.5):\n",
    "    \"Compute accuracy when `y_pred` and `y_true` are the same size.\"\n",
    "    return np.mean(((y_pred > thresh) == y_true), axis=1).sum()"
   ]
  },
  {
   "cell_type": "code",
   "execution_count": 44,
   "metadata": {
    "colab": {
     "base_uri": "https://localhost:8080/",
     "height": 161
    },
    "colab_type": "code",
    "executionInfo": {
     "elapsed": 3415,
     "status": "ok",
     "timestamp": 1574043652581,
     "user": {
      "displayName": "Carlos Sancini",
      "photoUrl": "https://lh3.googleusercontent.com/a-/AAuE7mBK_a0VL329YfM0B72acZH97KLpfXxCOtGUCi9s=s64",
      "userId": "02726390835148099400"
     },
     "user_tz": 180
    },
    "id": "Zl1XtVnFiWL0",
    "outputId": "3b644ebd-e939-4055-f6b4-1923dd32b173"
   },
   "outputs": [
    {
     "name": "stdout",
     "output_type": "stream",
     "text": [
      "***** Running evaluation *****\n",
      "  Num examples =6430\n",
      "  Batch size = 32\n"
     ]
    }
   ],
   "source": [
    "eval_loss, eval_accuracy = 0, 0\n",
    "nb_eval_steps, nb_eval_examples = 0, 0\n",
    "\n",
    "all_logits = None\n",
    "all_labels = None\n",
    "\n",
    "print(\"***** Running evaluation *****\")\n",
    "print(\"  Num examples ={}\".format(len(tt_test_input_ids)))\n",
    "print(\"  Batch size = {}\".format(batch_num))\n",
    "\n",
    "for step, batch in enumerate(valid_dataloader):\n",
    "    batch = tuple(t.to(device) for t in batch)\n",
    "    b_input_ids, b_input_mask, b_segs,b_labels = batch\n",
    "    \n",
    "    with torch.no_grad():\n",
    "        outputs = model(\n",
    "            input_ids = b_input_ids,\n",
    "            token_type_ids = b_segs, \n",
    "            input_mask = b_input_mask,\n",
    "            labels = b_labels)\n",
    "        tmp_eval_loss, logits = outputs[:2]\n",
    "    \n",
    "    # Get textclassification predict result\n",
    "    logits = logits.detach().cpu().numpy()\n",
    "    label_ids = b_labels.to('cpu').numpy()\n",
    "    tmp_eval_accuracy = accuracy(logits, label_ids)\n",
    "    \n",
    "    # Save predict and real label reuslt for analyze\n",
    "    if all_logits is None:\n",
    "        all_logits = logits\n",
    "    else:\n",
    "        all_logits = np.concatenate((all_logits, logits), axis=0)\n",
    "        \n",
    "    if all_labels is None:\n",
    "        all_labels = label_ids\n",
    "    else:    \n",
    "        all_labels = np.concatenate((all_labels, label_ids), axis=0)\n",
    "\n",
    "    eval_loss += tmp_eval_loss.mean().item()\n",
    "    eval_accuracy += tmp_eval_accuracy\n",
    "   \n",
    "    nb_eval_steps += 1\n",
    "\n",
    "\n",
    "    \n",
    "eval_loss = eval_loss / nb_eval_steps\n",
    "eval_accuracy = eval_accuracy / len(tt_test_input_ids)\n",
    "\n",
    "#     ROC-AUC calcualation\n",
    "# Compute ROC curve and ROC area for each class\n",
    "fpr = dict()\n",
    "tpr = dict()\n",
    "roc_auc = dict()\n",
    "\n",
    "for i in range(len(label_columns)):\n",
    "    fpr[i], tpr[i], _ = roc_curve(all_labels[:, i], all_logits[:, i])\n",
    "    roc_auc[i] = auc(fpr[i], tpr[i])\n",
    "    \n",
    "# Compute micro-average ROC curve and ROC area\n",
    "fpr[\"micro\"], tpr[\"micro\"], _ = roc_curve(all_labels.ravel(), all_logits.ravel())\n",
    "roc_auc[\"micro\"] = auc(fpr[\"micro\"], tpr[\"micro\"])\n",
    "\n",
    "result = {'eval_loss': eval_loss,\n",
    "          'eval_accuracy': eval_accuracy,\n",
    "          'roc_auc': roc_auc}\n",
    "\n",
    "with open(model_report_save_name, \"w\") as writer:\n",
    "    logger.info(\"***** Eval results *****\")\n",
    "    for key in sorted(result.keys()):\n",
    "        logger.info(\"  %s = %s\", key, str(result[key]))\n",
    "        writer.write(\"%s = %s\\n\" % (key, str(result[key])))"
   ]
  },
  {
   "cell_type": "code",
   "execution_count": 45,
   "metadata": {
    "colab": {
     "base_uri": "https://localhost:8080/",
     "height": 284
    },
    "colab_type": "code",
    "executionInfo": {
     "elapsed": 574,
     "status": "ok",
     "timestamp": 1574043668109,
     "user": {
      "displayName": "Carlos Sancini",
      "photoUrl": "https://lh3.googleusercontent.com/a-/AAuE7mBK_a0VL329YfM0B72acZH97KLpfXxCOtGUCi9s=s64",
      "userId": "02726390835148099400"
     },
     "user_tz": 180
    },
    "id": "IRbZ-5MCk8uV",
    "outputId": "830db9e0-742d-41fa-cef4-4142d9afc7e9"
   },
   "outputs": [
    {
     "data": {
      "text/plain": [
       "{'eval_loss': 0.16361501278451357,\n",
       " 'eval_accuracy': 0.9390876101607047,\n",
       " 'roc_auc': {0: 0.9109412815676923,\n",
       "  1: 0.9318522041011293,\n",
       "  2: 0.9323621193241456,\n",
       "  3: 0.8127680425043706,\n",
       "  4: 0.9635483437533761,\n",
       "  5: 0.867810479585353,\n",
       "  6: 0.9929611715833306,\n",
       "  7: 0.9978185704896504,\n",
       "  8: 0.8426287759583628,\n",
       "  9: 0.7533565039075115,\n",
       "  10: 0.8666364419685795,\n",
       "  11: 0.8583924426138518,\n",
       "  'micro': 0.9458338774643821}}"
      ]
     },
     "execution_count": 45,
     "metadata": {},
     "output_type": "execute_result"
    }
   ],
   "source": [
    "result"
   ]
  }
 ],
 "metadata": {
  "accelerator": "GPU",
  "colab": {
   "collapsed_sections": [],
   "machine_shape": "hm",
   "name": "XLNet Multilabel-DPCNN NYT.ipynb",
   "provenance": [
    {
     "file_id": "1Wc5wSxt4Ity1kXyajryJcSDrhDBQsHtW",
     "timestamp": 1574034708446
    },
    {
     "file_id": "1q3FAA-0F0G2e6qKhQ_navKJ3vcc2A9W1",
     "timestamp": 1573322451215
    }
   ]
  },
  "kernelspec": {
   "display_name": "Python 3",
   "language": "python",
   "name": "python3"
  },
  "language_info": {
   "codemirror_mode": {
    "name": "ipython",
    "version": 3
   },
   "file_extension": ".py",
   "mimetype": "text/x-python",
   "name": "python",
   "nbconvert_exporter": "python",
   "pygments_lexer": "ipython3",
   "version": "3.8.5"
  }
 },
 "nbformat": 4,
 "nbformat_minor": 4
}
